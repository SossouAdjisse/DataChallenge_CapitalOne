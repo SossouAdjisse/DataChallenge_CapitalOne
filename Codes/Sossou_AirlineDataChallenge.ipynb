{
 "cells": [
  {
   "cell_type": "markdown",
   "metadata": {
    "id": "B_NLa3OMq97t"
   },
   "source": [
    "---------------\n",
    "---------------\n",
    "# Project: Airline Data Challenge - Capital One Data Analyst Test\n",
    "### by **Sossou Simplice Adjisse**\n",
    "---------------\n",
    "---------------"
   ]
  },
  {
   "cell_type": "markdown",
   "metadata": {
    "id": "2K-0IDNGnlHZ"
   },
   "source": [
    "## Context:\n",
    "- The airline company is looking to enter the US domestic market and wants recommendations based on the three datasets provided to make some business decisions. \n",
    "- I am given datasets of the flights, tickets, and airport codes. Later in the code, I will give more details on the variables in these different datasets. I am also provided information on costs and revenue. "
   ]
  },
  {
   "cell_type": "markdown",
   "metadata": {},
   "source": [
    "## Questions:\n",
    "\n",
    "1. The 10 busiest round trip routes in terms of number of round trip flights in the quarter. Exclude canceled flights when performing the calculation.\n",
    "2. The 10 most profitable round trip routes (without considering the upfront airplane cost) in the quarter. Along with the profit, show total revenue, total cost, summary values of other key components and total round trip flights in the quarter for the top 10 most profitable routes. Exclude canceled flights from these calculations.\n",
    "3. The 5 round trip routes that you recommend to invest in based on any factors that you choose.\n",
    "4. The number of round trip flights it will take to breakeven on the upfront airplane cost for each of the 5 round trip routes that you recommend. Print key summary components for these routes.\n",
    "5. Key Performance Indicators (KPI’s) that you recommend tracking in the future to measure the success of the round trip routes that you recommend."
   ]
  },
  {
   "cell_type": "markdown",
   "metadata": {},
   "source": [
    "## How I will approach the datasets\n",
    "- First, I will load the datasets as flights, tickets, and airport codes. \n",
    "    - I will make their copies as flights_clean, tickets_clean, and airport_codes_clean before making modifications. \n",
    "- Second, I will perform some data quality checks. On each one of the flights, tickets, and airport codes:\n",
    "    - I will check things like mixed types, missing, outliers, and duplicates. \n",
    "- Third, I will clean the datasets. \n",
    "    - I will delete the duplicates when I see fit \n",
    "    - fix the mixed types by converting the variables to the appropriate format. \n",
    "    - I will replace missing with mean or median depending on the situation\n",
    "- Next, I will put restrictions on the datasets as per the requirements of the analysis \n",
    "    - I will filter only the medium and large airports and keep only the US flights. \n",
    "    - I will filter only the airports within the US as we are dealing with the US domestic market.\n",
    "- Lastly, I will create additional columns to respond to the questions."
   ]
  },
  {
   "cell_type": "markdown",
   "metadata": {},
   "source": [
    "##  How I will approach the coding:\n",
    "- To ensure reusability and scalability, I will create independent functions for specific tasks\n",
    "- I will organize all the codes in a file called 'utils' for utilities and put it in a folder called 'Modules\n",
    "- I will include a relative path to the package to import them into my main Python notebook\n",
    "- For anybody who wants to run my notebook;\n",
    "    - make sure to change the path in 'sys.path.append()'\n",
    "    - Open the utils file and change the path in the function 'load_csv()'\n",
    " - At the end, I will render the code and submit the following:\n",
    "     - my python notebook\n",
    "     - the Modules folder which contains the utils files\n",
    "     - an excel file which contains the new variables\n",
    "     - a MEADME.md file"
   ]
  },
  {
   "cell_type": "markdown",
   "metadata": {
    "id": "8P77ssKJAc8f"
   },
   "source": [
    "<br>\n",
    "<br>\n",
    "<br>\n",
    "\n",
    "## Data Quality Checks\n",
    "<!-- * **Pregnancies:** Number of times pregnant\n",
    "* **Glucose:** Plasma glucose concentration over 2 hours in an oral glucose tolerance test\n",
    "* **BloodPressure:** Diastolic blood pressure (mm Hg)\n",
    "* **SkinThickness:** Triceps skin fold thickness (mm)\n",
    "* **Insulin:** 2-Hour serum insulin (mu U/ml)\n",
    "* **BMI:** Body mass index (weight in kg/(height in m)^2)\n",
    "* **DiabetesPedigreeFunction:** A function which scores likelihood of diabetes based on family history.\n",
    "* **Age:** Age in years\n",
    "* **Outcome:** Class variable (0: person is not diabetic or 1: person is diabetic) -->"
   ]
  },
  {
   "cell_type": "code",
   "execution_count": 1,
   "metadata": {},
   "outputs": [],
   "source": [
    "# The line below upgrades my numexpr in python.\n",
    "# !pip install --upgrade numexpr\n",
    "# !pip install plotly\n"
   ]
  },
  {
   "cell_type": "code",
   "execution_count": 2,
   "metadata": {},
   "outputs": [],
   "source": [
    "# Importing some necessary libraries:\n",
    "import plotly.express as px\n",
    "\n",
    "# html export\n",
    "import plotly.io as pio\n",
    "pio.renderers.default ='notebook'\n",
    "\n",
    "# PDF export\n",
    "# !pip install Pyppeteer\n",
    "# !pyppeteer-install\n",
    "\n",
    "# For data manipulation:\n",
    "import pandas as pd\n",
    "import numpy as np\n",
    "\n",
    "# For plotting:\n",
    "import seaborn as sns\n",
    "import matplotlib.pyplot as plt\n",
    "%matplotlib inline\n",
    "\n",
    "# Path to modules and codes\n",
    "import sys \n",
    "sys.path.append(\"/Users/sossousimpliceadjisse/Library/CloudStorage/OneDrive-UW-Madison/Dissertation/Chapter I/z_JM_Files/Sossou_PDA_CapitalOne/Sossou_DC_CapitalOne/Codes\")\n",
    "\n",
    "# Modules as packages\n",
    "from Modules.utils import load_csv\n",
    "from Modules.utils import display_mixed_and_missing\n",
    "from Modules.utils import detect_missing_values\n",
    "from Modules.utils import display_middle_rows\n",
    "from Modules.utils import transform_date_format\n",
    "from Modules.utils import plot_multiple_columns_boxplot\n",
    "from Modules.utils import impute_missing_with_median\n",
    "from Modules.utils import plot_pie_chart\n",
    "from Modules.utils import plot_bar_chart_with_percentages\n",
    "from Modules.utils import split_coordinates\n",
    "from Modules.utils import aggregate_data\n",
    "from Modules.utils import create_route_id\n",
    "from Modules.utils import merge_flights_tickets_airportcodes\n",
    "from Modules.utils import calculate_delay_to_pay\n",
    "from Modules.utils import calculate_total_DELAY_toPAY\n",
    "from Modules.utils import create_dummies\n",
    "from Modules.utils import profit\n",
    "from Modules.utils import plot_top_routes\n",
    "from Modules.utils import add_delay_columns\n",
    "from Modules.utils import plot_top_least_delayed_routes\n",
    "\n",
    "# '''\n",
    "# Notes: \n",
    "# 1-) I could import all the functions above with: \" from Modules.utils import  * \"\n",
    "# 2-) I decided to export one by one as I did above to make it easy for the reader \n",
    "#     the list of the functions in the utils file with opening the util file\n",
    "# '''"
   ]
  },
  {
   "cell_type": "markdown",
   "metadata": {},
   "source": [
    "### Flights dataset\n",
    "I will:\n",
    "-  display the first rows to examine what the dataset looks like\n",
    "-  examine the data format of the columns \n",
    "-  examine the number of duplicates with respect to all columns and drop them\n",
    "-  explore the missing and perform the right emputation"
   ]
  },
  {
   "cell_type": "code",
   "execution_count": 3,
   "metadata": {},
   "outputs": [],
   "source": [
    "# Loading the Flights dataset\n",
    "flights = load_csv(\"Flights.csv\")\n",
    "\n",
    "# Making a copy that I will use for the modifications\n",
    "flights_clean = flights.copy()"
   ]
  },
  {
   "cell_type": "code",
   "execution_count": 4,
   "metadata": {},
   "outputs": [
    {
     "name": "stdout",
     "output_type": "stream",
     "text": [
      "<class 'pandas.core.frame.DataFrame'>\n",
      "RangeIndex: 1915886 entries, 0 to 1915885\n",
      "Data columns (total 16 columns):\n",
      " #   Column             Dtype  \n",
      "---  ------             -----  \n",
      " 0   FL_DATE            object \n",
      " 1   OP_CARRIER         object \n",
      " 2   TAIL_NUM           object \n",
      " 3   OP_CARRIER_FL_NUM  object \n",
      " 4   ORIGIN_AIRPORT_ID  int64  \n",
      " 5   ORIGIN             object \n",
      " 6   ORIGIN_CITY_NAME   object \n",
      " 7   DEST_AIRPORT_ID    int64  \n",
      " 8   DESTINATION        object \n",
      " 9   DEST_CITY_NAME     object \n",
      " 10  DEP_DELAY          float64\n",
      " 11  ARR_DELAY          float64\n",
      " 12  CANCELLED          float64\n",
      " 13  AIR_TIME           object \n",
      " 14  DISTANCE           object \n",
      " 15  OCCUPANCY_RATE     float64\n",
      "dtypes: float64(4), int64(2), object(10)\n",
      "memory usage: 233.9+ MB\n"
     ]
    }
   ],
   "source": [
    "# Investigating the columns and their types\n",
    "flights_clean.info()"
   ]
  },
  {
   "cell_type": "code",
   "execution_count": 5,
   "metadata": {},
   "outputs": [
    {
     "data": {
      "text/html": [
       "<div>\n",
       "<style scoped>\n",
       "    .dataframe tbody tr th:only-of-type {\n",
       "        vertical-align: middle;\n",
       "    }\n",
       "\n",
       "    .dataframe tbody tr th {\n",
       "        vertical-align: top;\n",
       "    }\n",
       "\n",
       "    .dataframe thead th {\n",
       "        text-align: right;\n",
       "    }\n",
       "</style>\n",
       "<table border=\"1\" class=\"dataframe\">\n",
       "  <thead>\n",
       "    <tr style=\"text-align: right;\">\n",
       "      <th></th>\n",
       "      <th>FL_DATE</th>\n",
       "      <th>OP_CARRIER</th>\n",
       "      <th>TAIL_NUM</th>\n",
       "      <th>OP_CARRIER_FL_NUM</th>\n",
       "      <th>ORIGIN_AIRPORT_ID</th>\n",
       "      <th>ORIGIN</th>\n",
       "      <th>ORIGIN_CITY_NAME</th>\n",
       "      <th>DEST_AIRPORT_ID</th>\n",
       "      <th>DESTINATION</th>\n",
       "      <th>DEST_CITY_NAME</th>\n",
       "      <th>DEP_DELAY</th>\n",
       "      <th>ARR_DELAY</th>\n",
       "      <th>CANCELLED</th>\n",
       "      <th>AIR_TIME</th>\n",
       "      <th>DISTANCE</th>\n",
       "      <th>OCCUPANCY_RATE</th>\n",
       "    </tr>\n",
       "  </thead>\n",
       "  <tbody>\n",
       "    <tr>\n",
       "      <th>0</th>\n",
       "      <td>2019-03-02</td>\n",
       "      <td>WN</td>\n",
       "      <td>N955WN</td>\n",
       "      <td>4591</td>\n",
       "      <td>14635</td>\n",
       "      <td>RSW</td>\n",
       "      <td>Fort Myers, FL</td>\n",
       "      <td>11042</td>\n",
       "      <td>CLE</td>\n",
       "      <td>Cleveland, OH</td>\n",
       "      <td>-8.0</td>\n",
       "      <td>-6.0</td>\n",
       "      <td>0.0</td>\n",
       "      <td>143.0</td>\n",
       "      <td>1025.0</td>\n",
       "      <td>0.97</td>\n",
       "    </tr>\n",
       "    <tr>\n",
       "      <th>1</th>\n",
       "      <td>2019-03-02</td>\n",
       "      <td>WN</td>\n",
       "      <td>N8686A</td>\n",
       "      <td>3231</td>\n",
       "      <td>14635</td>\n",
       "      <td>RSW</td>\n",
       "      <td>Fort Myers, FL</td>\n",
       "      <td>11066</td>\n",
       "      <td>CMH</td>\n",
       "      <td>Columbus, OH</td>\n",
       "      <td>1.0</td>\n",
       "      <td>5.0</td>\n",
       "      <td>0.0</td>\n",
       "      <td>135.0</td>\n",
       "      <td>930.0</td>\n",
       "      <td>0.55</td>\n",
       "    </tr>\n",
       "    <tr>\n",
       "      <th>2</th>\n",
       "      <td>2019-03-02</td>\n",
       "      <td>WN</td>\n",
       "      <td>N201LV</td>\n",
       "      <td>3383</td>\n",
       "      <td>14635</td>\n",
       "      <td>RSW</td>\n",
       "      <td>Fort Myers, FL</td>\n",
       "      <td>11066</td>\n",
       "      <td>CMH</td>\n",
       "      <td>Columbus, OH</td>\n",
       "      <td>0.0</td>\n",
       "      <td>4.0</td>\n",
       "      <td>0.0</td>\n",
       "      <td>132.0</td>\n",
       "      <td>930.0</td>\n",
       "      <td>0.91</td>\n",
       "    </tr>\n",
       "    <tr>\n",
       "      <th>3</th>\n",
       "      <td>2019-03-02</td>\n",
       "      <td>WN</td>\n",
       "      <td>N413WN</td>\n",
       "      <td>5498</td>\n",
       "      <td>14635</td>\n",
       "      <td>RSW</td>\n",
       "      <td>Fort Myers, FL</td>\n",
       "      <td>11066</td>\n",
       "      <td>CMH</td>\n",
       "      <td>Columbus, OH</td>\n",
       "      <td>11.0</td>\n",
       "      <td>14.0</td>\n",
       "      <td>0.0</td>\n",
       "      <td>136.0</td>\n",
       "      <td>930.0</td>\n",
       "      <td>0.67</td>\n",
       "    </tr>\n",
       "    <tr>\n",
       "      <th>4</th>\n",
       "      <td>2019-03-02</td>\n",
       "      <td>WN</td>\n",
       "      <td>N7832A</td>\n",
       "      <td>6933</td>\n",
       "      <td>14635</td>\n",
       "      <td>RSW</td>\n",
       "      <td>Fort Myers, FL</td>\n",
       "      <td>11259</td>\n",
       "      <td>DAL</td>\n",
       "      <td>Dallas, TX</td>\n",
       "      <td>0.0</td>\n",
       "      <td>-17.0</td>\n",
       "      <td>0.0</td>\n",
       "      <td>151.0</td>\n",
       "      <td>1005.0</td>\n",
       "      <td>0.62</td>\n",
       "    </tr>\n",
       "  </tbody>\n",
       "</table>\n",
       "</div>"
      ],
      "text/plain": [
       "      FL_DATE OP_CARRIER TAIL_NUM OP_CARRIER_FL_NUM  ORIGIN_AIRPORT_ID ORIGIN  \\\n",
       "0  2019-03-02         WN   N955WN              4591              14635    RSW   \n",
       "1  2019-03-02         WN   N8686A              3231              14635    RSW   \n",
       "2  2019-03-02         WN   N201LV              3383              14635    RSW   \n",
       "3  2019-03-02         WN   N413WN              5498              14635    RSW   \n",
       "4  2019-03-02         WN   N7832A              6933              14635    RSW   \n",
       "\n",
       "  ORIGIN_CITY_NAME  DEST_AIRPORT_ID DESTINATION DEST_CITY_NAME  DEP_DELAY  \\\n",
       "0   Fort Myers, FL            11042         CLE  Cleveland, OH       -8.0   \n",
       "1   Fort Myers, FL            11066         CMH   Columbus, OH        1.0   \n",
       "2   Fort Myers, FL            11066         CMH   Columbus, OH        0.0   \n",
       "3   Fort Myers, FL            11066         CMH   Columbus, OH       11.0   \n",
       "4   Fort Myers, FL            11259         DAL     Dallas, TX        0.0   \n",
       "\n",
       "   ARR_DELAY  CANCELLED AIR_TIME DISTANCE  OCCUPANCY_RATE  \n",
       "0       -6.0        0.0    143.0   1025.0            0.97  \n",
       "1        5.0        0.0    135.0    930.0            0.55  \n",
       "2        4.0        0.0    132.0    930.0            0.91  \n",
       "3       14.0        0.0    136.0    930.0            0.67  \n",
       "4      -17.0        0.0    151.0   1005.0            0.62  "
      ]
     },
     "execution_count": 5,
     "metadata": {},
     "output_type": "execute_result"
    }
   ],
   "source": [
    "# Exploring the top 5 rows\n",
    "flights_clean.head()"
   ]
  },
  {
   "cell_type": "code",
   "execution_count": 6,
   "metadata": {},
   "outputs": [
    {
     "data": {
      "text/html": [
       "<div>\n",
       "<style scoped>\n",
       "    .dataframe tbody tr th:only-of-type {\n",
       "        vertical-align: middle;\n",
       "    }\n",
       "\n",
       "    .dataframe tbody tr th {\n",
       "        vertical-align: top;\n",
       "    }\n",
       "\n",
       "    .dataframe thead th {\n",
       "        text-align: right;\n",
       "    }\n",
       "</style>\n",
       "<table border=\"1\" class=\"dataframe\">\n",
       "  <thead>\n",
       "    <tr style=\"text-align: right;\">\n",
       "      <th></th>\n",
       "      <th>FL_DATE</th>\n",
       "      <th>OP_CARRIER</th>\n",
       "      <th>TAIL_NUM</th>\n",
       "      <th>OP_CARRIER_FL_NUM</th>\n",
       "      <th>ORIGIN_AIRPORT_ID</th>\n",
       "      <th>ORIGIN</th>\n",
       "      <th>ORIGIN_CITY_NAME</th>\n",
       "      <th>DEST_AIRPORT_ID</th>\n",
       "      <th>DESTINATION</th>\n",
       "      <th>DEST_CITY_NAME</th>\n",
       "      <th>DEP_DELAY</th>\n",
       "      <th>ARR_DELAY</th>\n",
       "      <th>CANCELLED</th>\n",
       "      <th>AIR_TIME</th>\n",
       "      <th>DISTANCE</th>\n",
       "      <th>OCCUPANCY_RATE</th>\n",
       "    </tr>\n",
       "  </thead>\n",
       "  <tbody>\n",
       "    <tr>\n",
       "      <th>957941</th>\n",
       "      <td>2019-02-13</td>\n",
       "      <td>OO</td>\n",
       "      <td>N779CA</td>\n",
       "      <td>4121</td>\n",
       "      <td>10397</td>\n",
       "      <td>ATL</td>\n",
       "      <td>Atlanta, GA</td>\n",
       "      <td>15323</td>\n",
       "      <td>TRI</td>\n",
       "      <td>Bristol/Johnson City/Kingsport, TN</td>\n",
       "      <td>32.0</td>\n",
       "      <td>20.0</td>\n",
       "      <td>0.0</td>\n",
       "      <td>40.0</td>\n",
       "      <td>227.0</td>\n",
       "      <td>0.86</td>\n",
       "    </tr>\n",
       "    <tr>\n",
       "      <th>957942</th>\n",
       "      <td>2019-02-13</td>\n",
       "      <td>OO</td>\n",
       "      <td>N779CA</td>\n",
       "      <td>4121</td>\n",
       "      <td>15323</td>\n",
       "      <td>TRI</td>\n",
       "      <td>Bristol/Johnson City/Kingsport, TN</td>\n",
       "      <td>10397</td>\n",
       "      <td>ATL</td>\n",
       "      <td>Atlanta, GA</td>\n",
       "      <td>20.0</td>\n",
       "      <td>3.0</td>\n",
       "      <td>0.0</td>\n",
       "      <td>42.0</td>\n",
       "      <td>227.0</td>\n",
       "      <td>0.74</td>\n",
       "    </tr>\n",
       "    <tr>\n",
       "      <th>957943</th>\n",
       "      <td>2019-02-13</td>\n",
       "      <td>OO</td>\n",
       "      <td>N286SY</td>\n",
       "      <td>4122</td>\n",
       "      <td>10721</td>\n",
       "      <td>BOS</td>\n",
       "      <td>Boston, MA</td>\n",
       "      <td>14122</td>\n",
       "      <td>PIT</td>\n",
       "      <td>Pittsburgh, PA</td>\n",
       "      <td>164.0</td>\n",
       "      <td>155.0</td>\n",
       "      <td>0.0</td>\n",
       "      <td>85.0</td>\n",
       "      <td>496.0</td>\n",
       "      <td>0.92</td>\n",
       "    </tr>\n",
       "    <tr>\n",
       "      <th>957944</th>\n",
       "      <td>2019-02-13</td>\n",
       "      <td>OO</td>\n",
       "      <td>N830SK</td>\n",
       "      <td>4123</td>\n",
       "      <td>12264</td>\n",
       "      <td>IAD</td>\n",
       "      <td>Washington, DC</td>\n",
       "      <td>11433</td>\n",
       "      <td>DTW</td>\n",
       "      <td>Detroit, MI</td>\n",
       "      <td>0.0</td>\n",
       "      <td>-5.0</td>\n",
       "      <td>0.0</td>\n",
       "      <td>73.0</td>\n",
       "      <td>383.0</td>\n",
       "      <td>0.69</td>\n",
       "    </tr>\n",
       "    <tr>\n",
       "      <th>957945</th>\n",
       "      <td>2019-02-13</td>\n",
       "      <td>OO</td>\n",
       "      <td>N771SK</td>\n",
       "      <td>4124</td>\n",
       "      <td>10397</td>\n",
       "      <td>ATL</td>\n",
       "      <td>Atlanta, GA</td>\n",
       "      <td>10781</td>\n",
       "      <td>BTR</td>\n",
       "      <td>Baton Rouge, LA</td>\n",
       "      <td>47.0</td>\n",
       "      <td>30.0</td>\n",
       "      <td>0.0</td>\n",
       "      <td>65.0</td>\n",
       "      <td>448.0</td>\n",
       "      <td>0.59</td>\n",
       "    </tr>\n",
       "  </tbody>\n",
       "</table>\n",
       "</div>"
      ],
      "text/plain": [
       "           FL_DATE OP_CARRIER TAIL_NUM OP_CARRIER_FL_NUM  ORIGIN_AIRPORT_ID  \\\n",
       "957941  2019-02-13         OO   N779CA              4121              10397   \n",
       "957942  2019-02-13         OO   N779CA              4121              15323   \n",
       "957943  2019-02-13         OO   N286SY              4122              10721   \n",
       "957944  2019-02-13         OO   N830SK              4123              12264   \n",
       "957945  2019-02-13         OO   N771SK              4124              10397   \n",
       "\n",
       "       ORIGIN                    ORIGIN_CITY_NAME  DEST_AIRPORT_ID  \\\n",
       "957941    ATL                         Atlanta, GA            15323   \n",
       "957942    TRI  Bristol/Johnson City/Kingsport, TN            10397   \n",
       "957943    BOS                          Boston, MA            14122   \n",
       "957944    IAD                      Washington, DC            11433   \n",
       "957945    ATL                         Atlanta, GA            10781   \n",
       "\n",
       "       DESTINATION                      DEST_CITY_NAME  DEP_DELAY  ARR_DELAY  \\\n",
       "957941         TRI  Bristol/Johnson City/Kingsport, TN       32.0       20.0   \n",
       "957942         ATL                         Atlanta, GA       20.0        3.0   \n",
       "957943         PIT                      Pittsburgh, PA      164.0      155.0   \n",
       "957944         DTW                         Detroit, MI        0.0       -5.0   \n",
       "957945         BTR                     Baton Rouge, LA       47.0       30.0   \n",
       "\n",
       "        CANCELLED AIR_TIME DISTANCE  OCCUPANCY_RATE  \n",
       "957941        0.0     40.0    227.0            0.86  \n",
       "957942        0.0     42.0    227.0            0.74  \n",
       "957943        0.0     85.0    496.0            0.92  \n",
       "957944        0.0     73.0    383.0            0.69  \n",
       "957945        0.0     65.0    448.0            0.59  "
      ]
     },
     "execution_count": 6,
     "metadata": {},
     "output_type": "execute_result"
    }
   ],
   "source": [
    "# Display the middle 5 rows \n",
    "display_middle_rows(flights_clean, 5)"
   ]
  },
  {
   "cell_type": "code",
   "execution_count": 7,
   "metadata": {},
   "outputs": [
    {
     "data": {
      "text/html": [
       "<div>\n",
       "<style scoped>\n",
       "    .dataframe tbody tr th:only-of-type {\n",
       "        vertical-align: middle;\n",
       "    }\n",
       "\n",
       "    .dataframe tbody tr th {\n",
       "        vertical-align: top;\n",
       "    }\n",
       "\n",
       "    .dataframe thead th {\n",
       "        text-align: right;\n",
       "    }\n",
       "</style>\n",
       "<table border=\"1\" class=\"dataframe\">\n",
       "  <thead>\n",
       "    <tr style=\"text-align: right;\">\n",
       "      <th></th>\n",
       "      <th>FL_DATE</th>\n",
       "      <th>OP_CARRIER</th>\n",
       "      <th>TAIL_NUM</th>\n",
       "      <th>OP_CARRIER_FL_NUM</th>\n",
       "      <th>ORIGIN_AIRPORT_ID</th>\n",
       "      <th>ORIGIN</th>\n",
       "      <th>ORIGIN_CITY_NAME</th>\n",
       "      <th>DEST_AIRPORT_ID</th>\n",
       "      <th>DESTINATION</th>\n",
       "      <th>DEST_CITY_NAME</th>\n",
       "      <th>DEP_DELAY</th>\n",
       "      <th>ARR_DELAY</th>\n",
       "      <th>CANCELLED</th>\n",
       "      <th>AIR_TIME</th>\n",
       "      <th>DISTANCE</th>\n",
       "      <th>OCCUPANCY_RATE</th>\n",
       "    </tr>\n",
       "  </thead>\n",
       "  <tbody>\n",
       "    <tr>\n",
       "      <th>1915881</th>\n",
       "      <td>3/23/19</td>\n",
       "      <td>AA</td>\n",
       "      <td>N903NN</td>\n",
       "      <td>1433</td>\n",
       "      <td>15370</td>\n",
       "      <td>TUL</td>\n",
       "      <td>Tulsa, OK</td>\n",
       "      <td>11057</td>\n",
       "      <td>CLT</td>\n",
       "      <td>Charlotte, NC</td>\n",
       "      <td>-9.0</td>\n",
       "      <td>-6.0</td>\n",
       "      <td>0.0</td>\n",
       "      <td>112</td>\n",
       "      <td>****</td>\n",
       "      <td>0.794884</td>\n",
       "    </tr>\n",
       "    <tr>\n",
       "      <th>1915882</th>\n",
       "      <td>3/24/19</td>\n",
       "      <td>AA</td>\n",
       "      <td>N965AN</td>\n",
       "      <td>1433</td>\n",
       "      <td>15370</td>\n",
       "      <td>TUL</td>\n",
       "      <td>Tulsa, OK</td>\n",
       "      <td>11057</td>\n",
       "      <td>CLT</td>\n",
       "      <td>Charlotte, NC</td>\n",
       "      <td>-2.0</td>\n",
       "      <td>-1.0</td>\n",
       "      <td>0.0</td>\n",
       "      <td>106</td>\n",
       "      <td>****</td>\n",
       "      <td>0.538399</td>\n",
       "    </tr>\n",
       "    <tr>\n",
       "      <th>1915883</th>\n",
       "      <td>3/25/19</td>\n",
       "      <td>AA</td>\n",
       "      <td>N979NN</td>\n",
       "      <td>1433</td>\n",
       "      <td>15370</td>\n",
       "      <td>TUL</td>\n",
       "      <td>Tulsa, OK</td>\n",
       "      <td>11057</td>\n",
       "      <td>CLT</td>\n",
       "      <td>Charlotte, NC</td>\n",
       "      <td>-8.0</td>\n",
       "      <td>-25.0</td>\n",
       "      <td>0.0</td>\n",
       "      <td>106</td>\n",
       "      <td>****</td>\n",
       "      <td>0.955579</td>\n",
       "    </tr>\n",
       "    <tr>\n",
       "      <th>1915884</th>\n",
       "      <td>3/26/19</td>\n",
       "      <td>AA</td>\n",
       "      <td>N872NN</td>\n",
       "      <td>1433</td>\n",
       "      <td>15370</td>\n",
       "      <td>TUL</td>\n",
       "      <td>Tulsa, OK</td>\n",
       "      <td>11057</td>\n",
       "      <td>CLT</td>\n",
       "      <td>Charlotte, NC</td>\n",
       "      <td>-9.0</td>\n",
       "      <td>-6.0</td>\n",
       "      <td>0.0</td>\n",
       "      <td>112</td>\n",
       "      <td>****</td>\n",
       "      <td>0.595344</td>\n",
       "    </tr>\n",
       "    <tr>\n",
       "      <th>1915885</th>\n",
       "      <td>3/27/19</td>\n",
       "      <td>AA</td>\n",
       "      <td>N945AN</td>\n",
       "      <td>1433</td>\n",
       "      <td>15370</td>\n",
       "      <td>TUL</td>\n",
       "      <td>Tulsa, OK</td>\n",
       "      <td>11057</td>\n",
       "      <td>CLT</td>\n",
       "      <td>Charlotte, NC</td>\n",
       "      <td>-8.0</td>\n",
       "      <td>5.0</td>\n",
       "      <td>0.0</td>\n",
       "      <td>117</td>\n",
       "      <td>****</td>\n",
       "      <td>0.350192</td>\n",
       "    </tr>\n",
       "  </tbody>\n",
       "</table>\n",
       "</div>"
      ],
      "text/plain": [
       "         FL_DATE OP_CARRIER TAIL_NUM OP_CARRIER_FL_NUM  ORIGIN_AIRPORT_ID  \\\n",
       "1915881  3/23/19         AA   N903NN              1433              15370   \n",
       "1915882  3/24/19         AA   N965AN              1433              15370   \n",
       "1915883  3/25/19         AA   N979NN              1433              15370   \n",
       "1915884  3/26/19         AA   N872NN              1433              15370   \n",
       "1915885  3/27/19         AA   N945AN              1433              15370   \n",
       "\n",
       "        ORIGIN ORIGIN_CITY_NAME  DEST_AIRPORT_ID DESTINATION DEST_CITY_NAME  \\\n",
       "1915881    TUL        Tulsa, OK            11057         CLT  Charlotte, NC   \n",
       "1915882    TUL        Tulsa, OK            11057         CLT  Charlotte, NC   \n",
       "1915883    TUL        Tulsa, OK            11057         CLT  Charlotte, NC   \n",
       "1915884    TUL        Tulsa, OK            11057         CLT  Charlotte, NC   \n",
       "1915885    TUL        Tulsa, OK            11057         CLT  Charlotte, NC   \n",
       "\n",
       "         DEP_DELAY  ARR_DELAY  CANCELLED AIR_TIME DISTANCE  OCCUPANCY_RATE  \n",
       "1915881       -9.0       -6.0        0.0      112     ****        0.794884  \n",
       "1915882       -2.0       -1.0        0.0      106     ****        0.538399  \n",
       "1915883       -8.0      -25.0        0.0      106     ****        0.955579  \n",
       "1915884       -9.0       -6.0        0.0      112     ****        0.595344  \n",
       "1915885       -8.0        5.0        0.0      117     ****        0.350192  "
      ]
     },
     "execution_count": 7,
     "metadata": {},
     "output_type": "execute_result"
    }
   ],
   "source": [
    "# Display the last 5 rows \n",
    "flights_clean.tail()"
   ]
  },
  {
   "cell_type": "markdown",
   "metadata": {},
   "source": [
    "#### Remarks: \n",
    "After observing the top 5, middle 5, and last 5 rows in the data, I notice the followings:\n",
    "- The column FL_DATE which is date has at least two formats, YYYY-MM-DD and M/DD/YY, and needs further investigations\n",
    "    - I will use the format YYYY-MM-DD, which is ISO 8601 format and has more advantages \n",
    "- AIR_TIME and DISTANCE are object, which is a wrong format. I will need to ocnvert them into float64\n",
    "    - I will convert these two colomns to float64\n",
    "- Nothing else jumps of the ordinary for now"
   ]
  },
  {
   "cell_type": "code",
   "execution_count": 8,
   "metadata": {},
   "outputs": [
    {
     "data": {
      "text/plain": [
       "array(['2019-03-02', '2019-03-03', '2019-03-09', '2019-03-10',\n",
       "       '2019-03-24', '2019-03-28', '2019-03-29', '2019-03-30',\n",
       "       '2019-03-20', '2019-03-25', '2019-03-26', '2019-03-31',\n",
       "       '2019-03-13', '2019-03-14', '2019-03-12', '2019-03-11',\n",
       "       '2019-03-15', '2019-03-16', '2019-03-17', '2019-03-18',\n",
       "       '2019-03-19', '2019-03-21', '2019-03-22', '2019-03-23',\n",
       "       '2019-03-27', '2019-03-01', '2019-03-04', '2019-03-05',\n",
       "       '2019-03-06', '2019-03-07', '2019-03-08', '2019-02-17',\n",
       "       '2019-02-18', '2019-02-19', '2019-02-20', '2019-02-21',\n",
       "       '2019-02-22', '2019-02-23', '2019-02-24', '2019-02-25',\n",
       "       '2019-02-26', '2019-02-27', '2019-02-28', '2019-02-01',\n",
       "       '2019-02-02', '2019-02-03', '2019-02-04', '2019-02-05',\n",
       "       '2019-02-06', '2019-02-07', '2019-02-08', '2019-02-09',\n",
       "       '2019-02-10', '2019-02-11', '2019-02-12', '2019-02-13',\n",
       "       '2019-02-14', '2019-02-15', '2019-02-16', '2019-01-21',\n",
       "       '2019-01-24', '2019-01-25', '2019-01-26', '2019-01-27',\n",
       "       '2019-01-28', '2019-01-31', '2019-01-01', '2019-01-02',\n",
       "       '2019-01-03', '2019-01-04', '2019-01-05', '2019-01-06',\n",
       "       '2019-01-07', '2019-01-08', '2019-01-09', '2019-01-10',\n",
       "       '2019-01-11', '2019-01-12', '2019-01-13', '2019-01-14',\n",
       "       '2019-01-15', '2019-01-16', '2019-01-17', '2019-01-18',\n",
       "       '2019-01-19', '2019-01-22', '2019-01-23', '2019-01-29',\n",
       "       '2019-01-30', '2019-01-20', '2/2/19', '3/2/19', '1/2/19',\n",
       "       '1/12/19', '2/23/19', '2/5/19', '1/31/19', '2/21/19', '1/1/19',\n",
       "       '1/23/19', '1/9/19', '2/9/19', '1/8/19', '1/18/19', '3/22/19',\n",
       "       '3/23/19', '3/24/19', '3/25/19', '3/26/19', '3/27/19', '3/28/19',\n",
       "       '3/29/19', '3/30/19', '3/31/19', '3/1/19', '3/3/19', '3/4/19',\n",
       "       '3/5/19', '3/6/19', '3/7/19', '3/8/19', '3/9/19', '3/10/19',\n",
       "       '3/11/19', '3/12/19', '3/13/19', '3/14/19', '3/15/19', '3/16/19',\n",
       "       '3/17/19', '3/18/19', '3/19/19', '3/20/19', '3/21/19'],\n",
       "      dtype=object)"
      ]
     },
     "execution_count": 8,
     "metadata": {},
     "output_type": "execute_result"
    }
   ],
   "source": [
    "# Further investigation of the column FL_DATE\n",
    "flights_clean[\"FL_DATE\"].unique()"
   ]
  },
  {
   "cell_type": "markdown",
   "metadata": {},
   "source": [
    "#### Remarks: \n",
    "-  FL_DATE has two different formats: YYYY-MM-DD and M/DD/YY\n",
    "-  I will convert it to YYYY-MM-DD format"
   ]
  },
  {
   "cell_type": "code",
   "execution_count": 9,
   "metadata": {},
   "outputs": [],
   "source": [
    "# Converting FL_DATE to YYYY-MM-DD format\n",
    "flights_clean[\"FL_DATE\"] = flights_clean[\"FL_DATE\"].apply(transform_date_format)"
   ]
  },
  {
   "cell_type": "code",
   "execution_count": 10,
   "metadata": {},
   "outputs": [
    {
     "data": {
      "text/plain": [
       "array(['2019-03-02', '2019-03-03', '2019-03-09', '2019-03-10',\n",
       "       '2019-03-24', '2019-03-28', '2019-03-29', '2019-03-30',\n",
       "       '2019-03-20', '2019-03-25', '2019-03-26', '2019-03-31',\n",
       "       '2019-03-13', '2019-03-14', '2019-03-12', '2019-03-11',\n",
       "       '2019-03-15', '2019-03-16', '2019-03-17', '2019-03-18',\n",
       "       '2019-03-19', '2019-03-21', '2019-03-22', '2019-03-23',\n",
       "       '2019-03-27', '2019-03-01', '2019-03-04', '2019-03-05',\n",
       "       '2019-03-06', '2019-03-07', '2019-03-08', '2019-02-17',\n",
       "       '2019-02-18', '2019-02-19', '2019-02-20', '2019-02-21',\n",
       "       '2019-02-22', '2019-02-23', '2019-02-24', '2019-02-25',\n",
       "       '2019-02-26', '2019-02-27', '2019-02-28', '2019-02-01',\n",
       "       '2019-02-02', '2019-02-03', '2019-02-04', '2019-02-05',\n",
       "       '2019-02-06', '2019-02-07', '2019-02-08', '2019-02-09',\n",
       "       '2019-02-10', '2019-02-11', '2019-02-12', '2019-02-13',\n",
       "       '2019-02-14', '2019-02-15', '2019-02-16', '2019-01-21',\n",
       "       '2019-01-24', '2019-01-25', '2019-01-26', '2019-01-27',\n",
       "       '2019-01-28', '2019-01-31', '2019-01-01', '2019-01-02',\n",
       "       '2019-01-03', '2019-01-04', '2019-01-05', '2019-01-06',\n",
       "       '2019-01-07', '2019-01-08', '2019-01-09', '2019-01-10',\n",
       "       '2019-01-11', '2019-01-12', '2019-01-13', '2019-01-14',\n",
       "       '2019-01-15', '2019-01-16', '2019-01-17', '2019-01-18',\n",
       "       '2019-01-19', '2019-01-22', '2019-01-23', '2019-01-29',\n",
       "       '2019-01-30', '2019-01-20'], dtype=object)"
      ]
     },
     "execution_count": 10,
     "metadata": {},
     "output_type": "execute_result"
    }
   ],
   "source": [
    "flights_clean[\"FL_DATE\"].unique()"
   ]
  },
  {
   "cell_type": "code",
   "execution_count": 11,
   "metadata": {},
   "outputs": [],
   "source": [
    "# Converting AIR_TIME and DISTANCE to the right format\n",
    "column_data_types = {\n",
    "    'AIR_TIME': float,\n",
    "    'DISTANCE': float\n",
    "}\n",
    "\n",
    "for column, dtype in column_data_types.items():\n",
    "    flights_clean[column] = pd.to_numeric(flights_clean[column], errors='coerce')"
   ]
  },
  {
   "cell_type": "code",
   "execution_count": 12,
   "metadata": {},
   "outputs": [
    {
     "name": "stdout",
     "output_type": "stream",
     "text": [
      "<class 'pandas.core.frame.DataFrame'>\n",
      "RangeIndex: 1915886 entries, 0 to 1915885\n",
      "Data columns (total 16 columns):\n",
      " #   Column             Dtype  \n",
      "---  ------             -----  \n",
      " 0   FL_DATE            object \n",
      " 1   OP_CARRIER         object \n",
      " 2   TAIL_NUM           object \n",
      " 3   OP_CARRIER_FL_NUM  object \n",
      " 4   ORIGIN_AIRPORT_ID  int64  \n",
      " 5   ORIGIN             object \n",
      " 6   ORIGIN_CITY_NAME   object \n",
      " 7   DEST_AIRPORT_ID    int64  \n",
      " 8   DESTINATION        object \n",
      " 9   DEST_CITY_NAME     object \n",
      " 10  DEP_DELAY          float64\n",
      " 11  ARR_DELAY          float64\n",
      " 12  CANCELLED          float64\n",
      " 13  AIR_TIME           float64\n",
      " 14  DISTANCE           float64\n",
      " 15  OCCUPANCY_RATE     float64\n",
      "dtypes: float64(6), int64(2), object(8)\n",
      "memory usage: 233.9+ MB\n"
     ]
    }
   ],
   "source": [
    "flights_clean.info()"
   ]
  },
  {
   "cell_type": "code",
   "execution_count": 13,
   "metadata": {},
   "outputs": [
    {
     "data": {
      "text/plain": [
       "4545"
      ]
     },
     "execution_count": 13,
     "metadata": {},
     "output_type": "execute_result"
    }
   ],
   "source": [
    "# Examining duplicates with respect to all the columns \n",
    "flights_clean.duplicated().sum()"
   ]
  },
  {
   "cell_type": "markdown",
   "metadata": {},
   "source": [
    "#### Remarks: \n",
    "-  There are 4545 duplicates with respect to all the columns in the flights data.\n",
    "-  Given the context here,it does not mean sense to have the same data row multiple times \n",
    "-  Therefore I decide to drop them next"
   ]
  },
  {
   "cell_type": "code",
   "execution_count": 14,
   "metadata": {},
   "outputs": [],
   "source": [
    "# Dropping the 4545 dupliactes with repect to all the columns \n",
    "flights_clean = flights_clean.drop_duplicates()"
   ]
  },
  {
   "cell_type": "code",
   "execution_count": 15,
   "metadata": {},
   "outputs": [
    {
     "name": "stdout",
     "output_type": "stream",
     "text": [
      "<class 'pandas.core.frame.DataFrame'>\n",
      "Index: 1911341 entries, 0 to 1911340\n",
      "Data columns (total 16 columns):\n",
      " #   Column             Dtype  \n",
      "---  ------             -----  \n",
      " 0   FL_DATE            object \n",
      " 1   OP_CARRIER         object \n",
      " 2   TAIL_NUM           object \n",
      " 3   OP_CARRIER_FL_NUM  object \n",
      " 4   ORIGIN_AIRPORT_ID  int64  \n",
      " 5   ORIGIN             object \n",
      " 6   ORIGIN_CITY_NAME   object \n",
      " 7   DEST_AIRPORT_ID    int64  \n",
      " 8   DESTINATION        object \n",
      " 9   DEST_CITY_NAME     object \n",
      " 10  DEP_DELAY          float64\n",
      " 11  ARR_DELAY          float64\n",
      " 12  CANCELLED          float64\n",
      " 13  AIR_TIME           float64\n",
      " 14  DISTANCE           float64\n",
      " 15  OCCUPANCY_RATE     float64\n",
      "dtypes: float64(6), int64(2), object(8)\n",
      "memory usage: 247.9+ MB\n"
     ]
    }
   ],
   "source": [
    "flights_clean.info()"
   ]
  },
  {
   "cell_type": "code",
   "execution_count": 16,
   "metadata": {},
   "outputs": [
    {
     "name": "stdout",
     "output_type": "stream",
     "text": [
      "Missing Values Information:\n",
      "               Column  Missing Values  Percentage\n",
      "0             FL_DATE               0        0.00\n",
      "1          OP_CARRIER               0        0.00\n",
      "2            TAIL_NUM           12111        0.63\n",
      "3   OP_CARRIER_FL_NUM               0        0.00\n",
      "4   ORIGIN_AIRPORT_ID               0        0.00\n",
      "5              ORIGIN               0        0.00\n",
      "6    ORIGIN_CITY_NAME               0        0.00\n",
      "7     DEST_AIRPORT_ID               0        0.00\n",
      "8         DESTINATION               0        0.00\n",
      "9      DEST_CITY_NAME               0        0.00\n",
      "10          DEP_DELAY           50216        2.63\n",
      "11          ARR_DELAY           55847        2.92\n",
      "12          CANCELLED               0        0.00\n",
      "13           AIR_TIME           56094        2.93\n",
      "14           DISTANCE             274        0.01\n",
      "15     OCCUPANCY_RATE              31        0.00\n"
     ]
    }
   ],
   "source": [
    "# Exploring the percentage of missing in every columns\n",
    "detect_missing_values(flights_clean)"
   ]
  },
  {
   "cell_type": "markdown",
   "metadata": {},
   "source": [
    "#### Remarks: \n",
    "- TAIL_NUM has 12111 missing.\n",
    "    - I will drop them because, first, it is a string variable, and second, the percentage of missing is 0.63%, which is very small.\n",
    "-  DEP_DELAY, ARR_DELAY, AIR_TIME, DISTANCE, and OCCUPANCY_RATE have 50216 (2.63%), 55847(2.92%), 56094(2.93%), 274(0.01%), and 31 respectively.   \n",
    "    - I will replace the missings in these variables. But first, I will inspect the these variables for ouliers before deciding the appropriate imputation method between mean or median. For example, replacing the missings with the median value is appropriate when there are outliers because the median is less sensitive to the outliers than the mean."
   ]
  },
  {
   "cell_type": "code",
   "execution_count": 17,
   "metadata": {},
   "outputs": [
    {
     "data": {
      "image/png": "[encoded data removed]",
      "text/plain": [
       "<Figure size 864x576 with 6 Axes>"
      ]
     },
     "metadata": {
      "needs_background": "light"
     },
     "output_type": "display_data"
    }
   ],
   "source": [
    "# Visual inspection of outliers in the numerical columns using box plots\n",
    "columns_to_plot = ['DEP_DELAY', 'ARR_DELAY', 'AIR_TIME', 'DISTANCE', 'OCCUPANCY_RATE', 'CANCELLED']\n",
    "plot_multiple_columns_boxplot(flights_clean, columns_to_plot)"
   ]
  },
  {
   "cell_type": "markdown",
   "metadata": {},
   "source": [
    "#### Remarks: \n",
    "-  The columns OCCUPANCY_RATE, CANCELLED look fine \n",
    "-  The columns DEP_DELAY, ARR_DELAY, AIR_TIME, and DISTANCE have outliers \n",
    "-  Next, I will replace the missing values in these columns with the median"
   ]
  },
  {
   "cell_type": "code",
   "execution_count": 18,
   "metadata": {},
   "outputs": [],
   "source": [
    "# flights_clean.info()"
   ]
  },
  {
   "cell_type": "code",
   "execution_count": 19,
   "metadata": {},
   "outputs": [],
   "source": [
    "# Imputing missing values in columns with the median\n",
    "columns_to_impute = ['DEP_DELAY', 'ARR_DELAY', 'AIR_TIME', 'DISTANCE', 'OCCUPANCY_RATE']\n",
    "impute_missing_with_median(flights_clean, columns_to_impute)"
   ]
  },
  {
   "cell_type": "code",
   "execution_count": 20,
   "metadata": {},
   "outputs": [],
   "source": [
    "# flights_clean.info()"
   ]
  },
  {
   "cell_type": "code",
   "execution_count": 21,
   "metadata": {},
   "outputs": [],
   "source": [
    "# Dropping out the rows where TAIL_NUM is missing\n",
    "flights_clean.dropna(subset=['TAIL_NUM'], inplace=True)\n",
    "# Resetting the index\n",
    "flights_clean.reset_index(drop=True, inplace=True)"
   ]
  },
  {
   "cell_type": "code",
   "execution_count": 22,
   "metadata": {},
   "outputs": [],
   "source": [
    "# flights_clean.info()"
   ]
  },
  {
   "cell_type": "code",
   "execution_count": 23,
   "metadata": {},
   "outputs": [],
   "source": [
    "# Exploring the percentage of missing in every columns\n",
    "# detect_missing_values(flights_clean)"
   ]
  },
  {
   "cell_type": "code",
   "execution_count": 24,
   "metadata": {},
   "outputs": [
    {
     "name": "stdout",
     "output_type": "stream",
     "text": [
      "Number of rows where CANCELLED = 1: 39368\n"
     ]
    }
   ],
   "source": [
    "# Count the rows where 'CANCELLED' is equal to 1\n",
    "cancelled_count = len(flights_clean[flights_clean['CANCELLED'] == 1])\n",
    "\n",
    "# Print or use the count as needed\n",
    "print(f\"Number of rows where CANCELLED = 1: {cancelled_count}\")"
   ]
  },
  {
   "cell_type": "markdown",
   "metadata": {},
   "source": [
    "#### Remarks: \n",
    "-  There are 39368 cancelled flights and will drop them as per the requirement of the analysis."
   ]
  },
  {
   "cell_type": "code",
   "execution_count": 25,
   "metadata": {},
   "outputs": [],
   "source": [
    "# Drop rows where 'CANCELLED' is equal to 1 in place\n",
    "flights_clean.drop(flights_clean[flights_clean['CANCELLED'] == 1].index, inplace=True)\n",
    "# Resetting the index\n",
    "flights_clean.reset_index(drop=True, inplace=True)"
   ]
  },
  {
   "cell_type": "code",
   "execution_count": 26,
   "metadata": {},
   "outputs": [],
   "source": [
    "# flights_clean.info()"
   ]
  },
  {
   "cell_type": "markdown",
   "metadata": {},
   "source": [
    "<br>\n",
    "\n",
    "\n",
    "\n",
    "### Tickets dataset\n",
    "I will:\n",
    "-  display the first rows to examine what the dataset looks like\n",
    "-  examine the data format of the columns \n",
    "-  examine the number of duplicates with respect to all columns and drop them\n",
    "-  explore the missing and perform the right emputation"
   ]
  },
  {
   "cell_type": "code",
   "execution_count": 27,
   "metadata": {},
   "outputs": [],
   "source": [
    "# Tickets dataset\n",
    "tickets = load_csv('Tickets.csv')\n",
    "tickets_clean = tickets.copy()"
   ]
  },
  {
   "cell_type": "code",
   "execution_count": 28,
   "metadata": {},
   "outputs": [
    {
     "name": "stdout",
     "output_type": "stream",
     "text": [
      "<class 'pandas.core.frame.DataFrame'>\n",
      "RangeIndex: 1167285 entries, 0 to 1167284\n",
      "Data columns (total 12 columns):\n",
      " #   Column             Non-Null Count    Dtype  \n",
      "---  ------             --------------    -----  \n",
      " 0   ITIN_ID            1167285 non-null  int64  \n",
      " 1   YEAR               1167285 non-null  int64  \n",
      " 2   QUARTER            1167285 non-null  int64  \n",
      " 3   ORIGIN             1167285 non-null  object \n",
      " 4   ORIGIN_COUNTRY     1167285 non-null  object \n",
      " 5   ORIGIN_STATE_ABR   1167285 non-null  object \n",
      " 6   ORIGIN_STATE_NM    1167285 non-null  object \n",
      " 7   ROUNDTRIP          1167285 non-null  float64\n",
      " 8   REPORTING_CARRIER  1167285 non-null  object \n",
      " 9   PASSENGERS         1165308 non-null  float64\n",
      " 10  ITIN_FARE          1166325 non-null  object \n",
      " 11  DESTINATION        1167285 non-null  object \n",
      "dtypes: float64(2), int64(3), object(7)\n",
      "memory usage: 106.9+ MB\n"
     ]
    }
   ],
   "source": [
    "tickets_clean.info()"
   ]
  },
  {
   "cell_type": "code",
   "execution_count": 29,
   "metadata": {},
   "outputs": [
    {
     "data": {
      "text/html": [
       "<div>\n",
       "<style scoped>\n",
       "    .dataframe tbody tr th:only-of-type {\n",
       "        vertical-align: middle;\n",
       "    }\n",
       "\n",
       "    .dataframe tbody tr th {\n",
       "        vertical-align: top;\n",
       "    }\n",
       "\n",
       "    .dataframe thead th {\n",
       "        text-align: right;\n",
       "    }\n",
       "</style>\n",
       "<table border=\"1\" class=\"dataframe\">\n",
       "  <thead>\n",
       "    <tr style=\"text-align: right;\">\n",
       "      <th></th>\n",
       "      <th>ITIN_ID</th>\n",
       "      <th>YEAR</th>\n",
       "      <th>QUARTER</th>\n",
       "      <th>ORIGIN</th>\n",
       "      <th>ORIGIN_COUNTRY</th>\n",
       "      <th>ORIGIN_STATE_ABR</th>\n",
       "      <th>ORIGIN_STATE_NM</th>\n",
       "      <th>ROUNDTRIP</th>\n",
       "      <th>REPORTING_CARRIER</th>\n",
       "      <th>PASSENGERS</th>\n",
       "      <th>ITIN_FARE</th>\n",
       "      <th>DESTINATION</th>\n",
       "    </tr>\n",
       "  </thead>\n",
       "  <tbody>\n",
       "    <tr>\n",
       "      <th>0</th>\n",
       "      <td>201912723049</td>\n",
       "      <td>2019</td>\n",
       "      <td>1</td>\n",
       "      <td>ABI</td>\n",
       "      <td>US</td>\n",
       "      <td>TX</td>\n",
       "      <td>Texas</td>\n",
       "      <td>1.0</td>\n",
       "      <td>MQ</td>\n",
       "      <td>1.0</td>\n",
       "      <td>736.0</td>\n",
       "      <td>DAB</td>\n",
       "    </tr>\n",
       "    <tr>\n",
       "      <th>1</th>\n",
       "      <td>201912723085</td>\n",
       "      <td>2019</td>\n",
       "      <td>1</td>\n",
       "      <td>ABI</td>\n",
       "      <td>US</td>\n",
       "      <td>TX</td>\n",
       "      <td>Texas</td>\n",
       "      <td>1.0</td>\n",
       "      <td>MQ</td>\n",
       "      <td>1.0</td>\n",
       "      <td>570.0</td>\n",
       "      <td>COS</td>\n",
       "    </tr>\n",
       "    <tr>\n",
       "      <th>2</th>\n",
       "      <td>201912723491</td>\n",
       "      <td>2019</td>\n",
       "      <td>1</td>\n",
       "      <td>ABI</td>\n",
       "      <td>US</td>\n",
       "      <td>TX</td>\n",
       "      <td>Texas</td>\n",
       "      <td>1.0</td>\n",
       "      <td>MQ</td>\n",
       "      <td>1.0</td>\n",
       "      <td>564.0</td>\n",
       "      <td>MCO</td>\n",
       "    </tr>\n",
       "    <tr>\n",
       "      <th>3</th>\n",
       "      <td>201912723428</td>\n",
       "      <td>2019</td>\n",
       "      <td>1</td>\n",
       "      <td>ABI</td>\n",
       "      <td>US</td>\n",
       "      <td>TX</td>\n",
       "      <td>Texas</td>\n",
       "      <td>1.0</td>\n",
       "      <td>MQ</td>\n",
       "      <td>1.0</td>\n",
       "      <td>345.0</td>\n",
       "      <td>LGA</td>\n",
       "    </tr>\n",
       "    <tr>\n",
       "      <th>4</th>\n",
       "      <td>201912723509</td>\n",
       "      <td>2019</td>\n",
       "      <td>1</td>\n",
       "      <td>ABI</td>\n",
       "      <td>US</td>\n",
       "      <td>TX</td>\n",
       "      <td>Texas</td>\n",
       "      <td>0.0</td>\n",
       "      <td>MQ</td>\n",
       "      <td>1.0</td>\n",
       "      <td>309.0</td>\n",
       "      <td>MGM</td>\n",
       "    </tr>\n",
       "  </tbody>\n",
       "</table>\n",
       "</div>"
      ],
      "text/plain": [
       "        ITIN_ID  YEAR  QUARTER ORIGIN ORIGIN_COUNTRY ORIGIN_STATE_ABR  \\\n",
       "0  201912723049  2019        1    ABI             US               TX   \n",
       "1  201912723085  2019        1    ABI             US               TX   \n",
       "2  201912723491  2019        1    ABI             US               TX   \n",
       "3  201912723428  2019        1    ABI             US               TX   \n",
       "4  201912723509  2019        1    ABI             US               TX   \n",
       "\n",
       "  ORIGIN_STATE_NM  ROUNDTRIP REPORTING_CARRIER  PASSENGERS ITIN_FARE  \\\n",
       "0           Texas        1.0                MQ         1.0     736.0   \n",
       "1           Texas        1.0                MQ         1.0     570.0   \n",
       "2           Texas        1.0                MQ         1.0     564.0   \n",
       "3           Texas        1.0                MQ         1.0     345.0   \n",
       "4           Texas        0.0                MQ         1.0     309.0   \n",
       "\n",
       "  DESTINATION  \n",
       "0         DAB  \n",
       "1         COS  \n",
       "2         MCO  \n",
       "3         LGA  \n",
       "4         MGM  "
      ]
     },
     "execution_count": 29,
     "metadata": {},
     "output_type": "execute_result"
    }
   ],
   "source": [
    "tickets_clean.head()"
   ]
  },
  {
   "cell_type": "code",
   "execution_count": 30,
   "metadata": {},
   "outputs": [
    {
     "data": {
      "text/html": [
       "<div>\n",
       "<style scoped>\n",
       "    .dataframe tbody tr th:only-of-type {\n",
       "        vertical-align: middle;\n",
       "    }\n",
       "\n",
       "    .dataframe tbody tr th {\n",
       "        vertical-align: top;\n",
       "    }\n",
       "\n",
       "    .dataframe thead th {\n",
       "        text-align: right;\n",
       "    }\n",
       "</style>\n",
       "<table border=\"1\" class=\"dataframe\">\n",
       "  <thead>\n",
       "    <tr style=\"text-align: right;\">\n",
       "      <th></th>\n",
       "      <th>ITIN_ID</th>\n",
       "      <th>YEAR</th>\n",
       "      <th>QUARTER</th>\n",
       "      <th>ORIGIN</th>\n",
       "      <th>ORIGIN_COUNTRY</th>\n",
       "      <th>ORIGIN_STATE_ABR</th>\n",
       "      <th>ORIGIN_STATE_NM</th>\n",
       "      <th>ROUNDTRIP</th>\n",
       "      <th>REPORTING_CARRIER</th>\n",
       "      <th>PASSENGERS</th>\n",
       "      <th>ITIN_FARE</th>\n",
       "      <th>DESTINATION</th>\n",
       "    </tr>\n",
       "  </thead>\n",
       "  <tbody>\n",
       "    <tr>\n",
       "      <th>583640</th>\n",
       "      <td>201914628838</td>\n",
       "      <td>2019</td>\n",
       "      <td>1</td>\n",
       "      <td>MCI</td>\n",
       "      <td>US</td>\n",
       "      <td>MO</td>\n",
       "      <td>Missouri</td>\n",
       "      <td>1.0</td>\n",
       "      <td>WN</td>\n",
       "      <td>1.0</td>\n",
       "      <td>618.0</td>\n",
       "      <td>CMH</td>\n",
       "    </tr>\n",
       "    <tr>\n",
       "      <th>583641</th>\n",
       "      <td>201914635868</td>\n",
       "      <td>2019</td>\n",
       "      <td>1</td>\n",
       "      <td>MCI</td>\n",
       "      <td>US</td>\n",
       "      <td>MO</td>\n",
       "      <td>Missouri</td>\n",
       "      <td>1.0</td>\n",
       "      <td>WN</td>\n",
       "      <td>1.0</td>\n",
       "      <td>682.0</td>\n",
       "      <td>CLT</td>\n",
       "    </tr>\n",
       "    <tr>\n",
       "      <th>583642</th>\n",
       "      <td>201914628853</td>\n",
       "      <td>2019</td>\n",
       "      <td>1</td>\n",
       "      <td>MCI</td>\n",
       "      <td>US</td>\n",
       "      <td>MO</td>\n",
       "      <td>Missouri</td>\n",
       "      <td>1.0</td>\n",
       "      <td>WN</td>\n",
       "      <td>1.0</td>\n",
       "      <td>11.0</td>\n",
       "      <td>DCA</td>\n",
       "    </tr>\n",
       "    <tr>\n",
       "      <th>583643</th>\n",
       "      <td>201915200756</td>\n",
       "      <td>2019</td>\n",
       "      <td>1</td>\n",
       "      <td>MCI</td>\n",
       "      <td>US</td>\n",
       "      <td>MO</td>\n",
       "      <td>Missouri</td>\n",
       "      <td>1.0</td>\n",
       "      <td>YX</td>\n",
       "      <td>1.0</td>\n",
       "      <td>478.0</td>\n",
       "      <td>ORD</td>\n",
       "    </tr>\n",
       "    <tr>\n",
       "      <th>583644</th>\n",
       "      <td>20191612845</td>\n",
       "      <td>2019</td>\n",
       "      <td>1</td>\n",
       "      <td>MCI</td>\n",
       "      <td>US</td>\n",
       "      <td>MO</td>\n",
       "      <td>Missouri</td>\n",
       "      <td>0.0</td>\n",
       "      <td>AA</td>\n",
       "      <td>1.0</td>\n",
       "      <td>398.0</td>\n",
       "      <td>DFW</td>\n",
       "    </tr>\n",
       "  </tbody>\n",
       "</table>\n",
       "</div>"
      ],
      "text/plain": [
       "             ITIN_ID  YEAR  QUARTER ORIGIN ORIGIN_COUNTRY ORIGIN_STATE_ABR  \\\n",
       "583640  201914628838  2019        1    MCI             US               MO   \n",
       "583641  201914635868  2019        1    MCI             US               MO   \n",
       "583642  201914628853  2019        1    MCI             US               MO   \n",
       "583643  201915200756  2019        1    MCI             US               MO   \n",
       "583644   20191612845  2019        1    MCI             US               MO   \n",
       "\n",
       "       ORIGIN_STATE_NM  ROUNDTRIP REPORTING_CARRIER  PASSENGERS ITIN_FARE  \\\n",
       "583640        Missouri        1.0                WN         1.0     618.0   \n",
       "583641        Missouri        1.0                WN         1.0     682.0   \n",
       "583642        Missouri        1.0                WN         1.0      11.0   \n",
       "583643        Missouri        1.0                YX         1.0     478.0   \n",
       "583644        Missouri        0.0                AA         1.0     398.0   \n",
       "\n",
       "       DESTINATION  \n",
       "583640         CMH  \n",
       "583641         CLT  \n",
       "583642         DCA  \n",
       "583643         ORD  \n",
       "583644         DFW  "
      ]
     },
     "execution_count": 30,
     "metadata": {},
     "output_type": "execute_result"
    }
   ],
   "source": [
    "# Display the middle 5 rows \n",
    "display_middle_rows(tickets_clean, 5)"
   ]
  },
  {
   "cell_type": "code",
   "execution_count": 31,
   "metadata": {},
   "outputs": [
    {
     "data": {
      "text/html": [
       "<div>\n",
       "<style scoped>\n",
       "    .dataframe tbody tr th:only-of-type {\n",
       "        vertical-align: middle;\n",
       "    }\n",
       "\n",
       "    .dataframe tbody tr th {\n",
       "        vertical-align: top;\n",
       "    }\n",
       "\n",
       "    .dataframe thead th {\n",
       "        text-align: right;\n",
       "    }\n",
       "</style>\n",
       "<table border=\"1\" class=\"dataframe\">\n",
       "  <thead>\n",
       "    <tr style=\"text-align: right;\">\n",
       "      <th></th>\n",
       "      <th>ITIN_ID</th>\n",
       "      <th>YEAR</th>\n",
       "      <th>QUARTER</th>\n",
       "      <th>ORIGIN</th>\n",
       "      <th>ORIGIN_COUNTRY</th>\n",
       "      <th>ORIGIN_STATE_ABR</th>\n",
       "      <th>ORIGIN_STATE_NM</th>\n",
       "      <th>ROUNDTRIP</th>\n",
       "      <th>REPORTING_CARRIER</th>\n",
       "      <th>PASSENGERS</th>\n",
       "      <th>ITIN_FARE</th>\n",
       "      <th>DESTINATION</th>\n",
       "    </tr>\n",
       "  </thead>\n",
       "  <tbody>\n",
       "    <tr>\n",
       "      <th>1167280</th>\n",
       "      <td>201911284909</td>\n",
       "      <td>2019</td>\n",
       "      <td>1</td>\n",
       "      <td>YAK</td>\n",
       "      <td>US</td>\n",
       "      <td>AK</td>\n",
       "      <td>Alaska</td>\n",
       "      <td>0.0</td>\n",
       "      <td>AS</td>\n",
       "      <td>1.0</td>\n",
       "      <td>244.0</td>\n",
       "      <td>ANC</td>\n",
       "    </tr>\n",
       "    <tr>\n",
       "      <th>1167281</th>\n",
       "      <td>201911284959</td>\n",
       "      <td>2019</td>\n",
       "      <td>1</td>\n",
       "      <td>YAK</td>\n",
       "      <td>US</td>\n",
       "      <td>AK</td>\n",
       "      <td>Alaska</td>\n",
       "      <td>1.0</td>\n",
       "      <td>AS</td>\n",
       "      <td>1.0</td>\n",
       "      <td>371.0</td>\n",
       "      <td>JNU</td>\n",
       "    </tr>\n",
       "    <tr>\n",
       "      <th>1167282</th>\n",
       "      <td>201911284940</td>\n",
       "      <td>2019</td>\n",
       "      <td>1</td>\n",
       "      <td>YAK</td>\n",
       "      <td>US</td>\n",
       "      <td>AK</td>\n",
       "      <td>Alaska</td>\n",
       "      <td>0.0</td>\n",
       "      <td>AS</td>\n",
       "      <td>1.0</td>\n",
       "      <td>271.0</td>\n",
       "      <td>JNU</td>\n",
       "    </tr>\n",
       "    <tr>\n",
       "      <th>1167283</th>\n",
       "      <td>201911284914</td>\n",
       "      <td>2019</td>\n",
       "      <td>1</td>\n",
       "      <td>YAK</td>\n",
       "      <td>US</td>\n",
       "      <td>AK</td>\n",
       "      <td>Alaska</td>\n",
       "      <td>0.0</td>\n",
       "      <td>AS</td>\n",
       "      <td>1.0</td>\n",
       "      <td>603.0</td>\n",
       "      <td>ANC</td>\n",
       "    </tr>\n",
       "    <tr>\n",
       "      <th>1167284</th>\n",
       "      <td>201911284952</td>\n",
       "      <td>2019</td>\n",
       "      <td>1</td>\n",
       "      <td>YAK</td>\n",
       "      <td>US</td>\n",
       "      <td>AK</td>\n",
       "      <td>Alaska</td>\n",
       "      <td>1.0</td>\n",
       "      <td>AS</td>\n",
       "      <td>1.0</td>\n",
       "      <td>299.0</td>\n",
       "      <td>JNU</td>\n",
       "    </tr>\n",
       "  </tbody>\n",
       "</table>\n",
       "</div>"
      ],
      "text/plain": [
       "              ITIN_ID  YEAR  QUARTER ORIGIN ORIGIN_COUNTRY ORIGIN_STATE_ABR  \\\n",
       "1167280  201911284909  2019        1    YAK             US               AK   \n",
       "1167281  201911284959  2019        1    YAK             US               AK   \n",
       "1167282  201911284940  2019        1    YAK             US               AK   \n",
       "1167283  201911284914  2019        1    YAK             US               AK   \n",
       "1167284  201911284952  2019        1    YAK             US               AK   \n",
       "\n",
       "        ORIGIN_STATE_NM  ROUNDTRIP REPORTING_CARRIER  PASSENGERS ITIN_FARE  \\\n",
       "1167280          Alaska        0.0                AS         1.0     244.0   \n",
       "1167281          Alaska        1.0                AS         1.0     371.0   \n",
       "1167282          Alaska        0.0                AS         1.0     271.0   \n",
       "1167283          Alaska        0.0                AS         1.0     603.0   \n",
       "1167284          Alaska        1.0                AS         1.0     299.0   \n",
       "\n",
       "        DESTINATION  \n",
       "1167280         ANC  \n",
       "1167281         JNU  \n",
       "1167282         JNU  \n",
       "1167283         ANC  \n",
       "1167284         JNU  "
      ]
     },
     "execution_count": 31,
     "metadata": {},
     "output_type": "execute_result"
    }
   ],
   "source": [
    "# Investigating the tail rows \n",
    "tickets_clean.tail()"
   ]
  },
  {
   "cell_type": "markdown",
   "metadata": {},
   "source": [
    "#### Remarks: \n",
    "After observing the top 5, middle 5, and last 5 rows in the tickets dataset, I notice the followings:\n",
    "- ITIN_FARE is a string, which is a wrong format\n",
    "    - I will convert this column to float64\n",
    "- Everything else looks fine for now."
   ]
  },
  {
   "cell_type": "code",
   "execution_count": 32,
   "metadata": {},
   "outputs": [],
   "source": [
    "# Converting ITIN_FARE to the right format\n",
    "column_data_types = {\n",
    "    'ITIN_FARE': float\n",
    "}\n",
    "\n",
    "for column, dtype in column_data_types.items():\n",
    "    tickets_clean[column] = pd.to_numeric(tickets_clean[column], errors='coerce')"
   ]
  },
  {
   "cell_type": "code",
   "execution_count": 33,
   "metadata": {},
   "outputs": [],
   "source": [
    "# tickets_clean.info()"
   ]
  },
  {
   "cell_type": "code",
   "execution_count": 34,
   "metadata": {},
   "outputs": [
    {
     "data": {
      "text/plain": [
       "71898"
      ]
     },
     "execution_count": 34,
     "metadata": {},
     "output_type": "execute_result"
    }
   ],
   "source": [
    "# Examining dupliactes with repect to all the columns \n",
    "tickets_clean.duplicated().sum()"
   ]
  },
  {
   "cell_type": "markdown",
   "metadata": {},
   "source": [
    "#### Remarks: \n",
    "-  There are 71898 duplicates with respect to all the columns in the tickets data.\n",
    "-  Given our context here, having the same data row multiple times does not mean sense\n",
    "-  Therefore I decide to drop them next"
   ]
  },
  {
   "cell_type": "code",
   "execution_count": 35,
   "metadata": {},
   "outputs": [],
   "source": [
    "# Dropping the 71898 duplicates with respect to all the columns \n",
    "tickets_clean = tickets_clean.drop_duplicates()"
   ]
  },
  {
   "cell_type": "code",
   "execution_count": 36,
   "metadata": {},
   "outputs": [
    {
     "name": "stdout",
     "output_type": "stream",
     "text": [
      "Missing Values Information:\n",
      "               Column  Missing Values  Percentage\n",
      "0             ITIN_ID               0        0.00\n",
      "1                YEAR               0        0.00\n",
      "2             QUARTER               0        0.00\n",
      "3              ORIGIN               0        0.00\n",
      "4      ORIGIN_COUNTRY               0        0.00\n",
      "5    ORIGIN_STATE_ABR               0        0.00\n",
      "6     ORIGIN_STATE_NM               0        0.00\n",
      "7           ROUNDTRIP               0        0.00\n",
      "8   REPORTING_CARRIER               0        0.00\n",
      "9          PASSENGERS            1575        0.14\n",
      "10          ITIN_FARE            3804        0.35\n",
      "11        DESTINATION               0        0.00\n"
     ]
    }
   ],
   "source": [
    "# Exploring the percentage of missing in every columns\n",
    "detect_missing_values(tickets_clean)"
   ]
  },
  {
   "cell_type": "markdown",
   "metadata": {},
   "source": [
    "#### Remarks: \n",
    "-  The columns PASSENGERS and ITIN_FARE have 1575(0.14%) and 3804(0.35%) missing values repectively\n",
    "-  Next, I will examine the outliers in them and decide which method t use between mean and median to replace them."
   ]
  },
  {
   "cell_type": "code",
   "execution_count": 37,
   "metadata": {},
   "outputs": [
    {
     "data": {
      "image/png": "[encoded data removed]",
      "text/plain": [
       "<Figure size 864x576 with 2 Axes>"
      ]
     },
     "metadata": {
      "needs_background": "light"
     },
     "output_type": "display_data"
    }
   ],
   "source": [
    "# Visual inspection of outliers in the numerical columns using box plots\n",
    "columns_to_plot = ['ITIN_FARE', 'PASSENGERS']\n",
    "plot_multiple_columns_boxplot(tickets_clean, columns_to_plot)"
   ]
  },
  {
   "cell_type": "markdown",
   "metadata": {},
   "source": [
    "#### Remarks: \n",
    "-  As suspected, columns PASSENGERS and ITIN_FARE have outliers\n",
    "-  Therefore I will replace them with the median method\n",
    "-  Next, I will restrict the data to only round trips. This means I will drop rows where ROUNDTRIP == 0"
   ]
  },
  {
   "cell_type": "code",
   "execution_count": 38,
   "metadata": {},
   "outputs": [],
   "source": [
    "# Imputing missing values in columns with the median\n",
    "columns_to_impute = ['PASSENGERS', 'ITIN_FARE']\n",
    "impute_missing_with_median(tickets_clean, columns_to_impute)"
   ]
  },
  {
   "cell_type": "code",
   "execution_count": 39,
   "metadata": {},
   "outputs": [
    {
     "data": {
      "text/plain": [
       "ROUNDTRIP\n",
       "1.0    661036\n",
       "0.0    434351\n",
       "Name: count, dtype: int64"
      ]
     },
     "execution_count": 39,
     "metadata": {},
     "output_type": "execute_result"
    }
   ],
   "source": [
    "tickets_clean[\"ROUNDTRIP\"].value_counts()"
   ]
  },
  {
   "cell_type": "code",
   "execution_count": 40,
   "metadata": {},
   "outputs": [],
   "source": [
    "# Keeping only the round trips \n",
    "tickets_clean.drop(tickets_clean[tickets_clean['ROUNDTRIP'] == 0].index, inplace=True)\n",
    "# Resetting the index\n",
    "tickets_clean.reset_index(drop=True, inplace=True)"
   ]
  },
  {
   "cell_type": "code",
   "execution_count": 41,
   "metadata": {},
   "outputs": [],
   "source": [
    "# tickets_clean[\"ROUNDTRIP\"].value_counts()"
   ]
  },
  {
   "cell_type": "code",
   "execution_count": 42,
   "metadata": {},
   "outputs": [],
   "source": [
    "# I will break the ITIN_ID column to explore if there is possibility to extract some information\n",
    "# Convert 'ITIN_ID' column to string type\n",
    "tickets_clean['ITIN_ID'] = tickets_clean['ITIN_ID'].astype(str)\n",
    "\n",
    "# Extract the first 5 digits and create new columns\n",
    "tickets_clean['ITIN_ID1'] = tickets_clean['ITIN_ID'].str[:5]\n",
    "tickets_clean['ITIN_ID2'] = tickets_clean['ITIN_ID'].str[5:]\n",
    "\n",
    "# Move the new columns to the second and third positions\n",
    "tickets_clean.insert(1, 'ITIN_ID1', tickets_clean.pop('ITIN_ID1'))\n",
    "tickets_clean.insert(2, 'ITIN_ID2', tickets_clean.pop('ITIN_ID2'))"
   ]
  },
  {
   "cell_type": "markdown",
   "metadata": {},
   "source": [
    "<br>\n",
    "<br>\n",
    "<br>\n",
    "<br>\n",
    "<br>\n",
    "\n",
    "### Airport Codes dataset\n",
    "I will:\n",
    "-  display the first rows to examine what the dataset looks like\n",
    "-  examine the data format of the columns \n",
    "-  examine the number of duplicates with respect to all columns and drop them\n",
    "-  explore the missing and perform the right emputation"
   ]
  },
  {
   "cell_type": "code",
   "execution_count": 43,
   "metadata": {},
   "outputs": [],
   "source": [
    "# Airport Codes dataset\n",
    "airport_codes = load_csv('Airport_Codes.csv')\n",
    "airport_codes_clean = airport_codes.copy()"
   ]
  },
  {
   "cell_type": "code",
   "execution_count": 44,
   "metadata": {},
   "outputs": [
    {
     "name": "stdout",
     "output_type": "stream",
     "text": [
      "<class 'pandas.core.frame.DataFrame'>\n",
      "RangeIndex: 55369 entries, 0 to 55368\n",
      "Data columns (total 8 columns):\n",
      " #   Column        Non-Null Count  Dtype  \n",
      "---  ------        --------------  -----  \n",
      " 0   TYPE          55369 non-null  object \n",
      " 1   NAME          55369 non-null  object \n",
      " 2   ELEVATION_FT  48354 non-null  float64\n",
      " 3   CONTINENT     27526 non-null  object \n",
      " 4   ISO_COUNTRY   55122 non-null  object \n",
      " 5   MUNICIPALITY  49663 non-null  object \n",
      " 6   IATA_CODE     9182 non-null   object \n",
      " 7   COORDINATES   55369 non-null  object \n",
      "dtypes: float64(1), object(7)\n",
      "memory usage: 3.4+ MB\n"
     ]
    }
   ],
   "source": [
    "airport_codes_clean.info()"
   ]
  },
  {
   "cell_type": "code",
   "execution_count": 45,
   "metadata": {},
   "outputs": [
    {
     "data": {
      "text/html": [
       "<div>\n",
       "<style scoped>\n",
       "    .dataframe tbody tr th:only-of-type {\n",
       "        vertical-align: middle;\n",
       "    }\n",
       "\n",
       "    .dataframe tbody tr th {\n",
       "        vertical-align: top;\n",
       "    }\n",
       "\n",
       "    .dataframe thead th {\n",
       "        text-align: right;\n",
       "    }\n",
       "</style>\n",
       "<table border=\"1\" class=\"dataframe\">\n",
       "  <thead>\n",
       "    <tr style=\"text-align: right;\">\n",
       "      <th></th>\n",
       "      <th>TYPE</th>\n",
       "      <th>NAME</th>\n",
       "      <th>ELEVATION_FT</th>\n",
       "      <th>CONTINENT</th>\n",
       "      <th>ISO_COUNTRY</th>\n",
       "      <th>MUNICIPALITY</th>\n",
       "      <th>IATA_CODE</th>\n",
       "      <th>COORDINATES</th>\n",
       "    </tr>\n",
       "  </thead>\n",
       "  <tbody>\n",
       "    <tr>\n",
       "      <th>0</th>\n",
       "      <td>heliport</td>\n",
       "      <td>Total Rf Heliport</td>\n",
       "      <td>11.0</td>\n",
       "      <td>NaN</td>\n",
       "      <td>US</td>\n",
       "      <td>Bensalem</td>\n",
       "      <td>NaN</td>\n",
       "      <td>-74.93360137939453, 40.07080078125</td>\n",
       "    </tr>\n",
       "    <tr>\n",
       "      <th>1</th>\n",
       "      <td>small_airport</td>\n",
       "      <td>Aero B Ranch Airport</td>\n",
       "      <td>3435.0</td>\n",
       "      <td>NaN</td>\n",
       "      <td>US</td>\n",
       "      <td>Leoti</td>\n",
       "      <td>NaN</td>\n",
       "      <td>-101.473911, 38.704022</td>\n",
       "    </tr>\n",
       "    <tr>\n",
       "      <th>2</th>\n",
       "      <td>small_airport</td>\n",
       "      <td>Lowell Field</td>\n",
       "      <td>450.0</td>\n",
       "      <td>NaN</td>\n",
       "      <td>US</td>\n",
       "      <td>Anchor Point</td>\n",
       "      <td>NaN</td>\n",
       "      <td>-151.695999146, 59.94919968</td>\n",
       "    </tr>\n",
       "  </tbody>\n",
       "</table>\n",
       "</div>"
      ],
      "text/plain": [
       "            TYPE                  NAME  ELEVATION_FT CONTINENT ISO_COUNTRY  \\\n",
       "0       heliport     Total Rf Heliport          11.0       NaN          US   \n",
       "1  small_airport  Aero B Ranch Airport        3435.0       NaN          US   \n",
       "2  small_airport          Lowell Field         450.0       NaN          US   \n",
       "\n",
       "   MUNICIPALITY IATA_CODE                         COORDINATES  \n",
       "0      Bensalem       NaN  -74.93360137939453, 40.07080078125  \n",
       "1         Leoti       NaN              -101.473911, 38.704022  \n",
       "2  Anchor Point       NaN         -151.695999146, 59.94919968  "
      ]
     },
     "execution_count": 45,
     "metadata": {},
     "output_type": "execute_result"
    }
   ],
   "source": [
    "# Investigating the top 5 rows\n",
    "airport_codes_clean.head(3)"
   ]
  },
  {
   "cell_type": "code",
   "execution_count": 46,
   "metadata": {},
   "outputs": [
    {
     "data": {
      "text/html": [
       "<div>\n",
       "<style scoped>\n",
       "    .dataframe tbody tr th:only-of-type {\n",
       "        vertical-align: middle;\n",
       "    }\n",
       "\n",
       "    .dataframe tbody tr th {\n",
       "        vertical-align: top;\n",
       "    }\n",
       "\n",
       "    .dataframe thead th {\n",
       "        text-align: right;\n",
       "    }\n",
       "</style>\n",
       "<table border=\"1\" class=\"dataframe\">\n",
       "  <thead>\n",
       "    <tr style=\"text-align: right;\">\n",
       "      <th></th>\n",
       "      <th>TYPE</th>\n",
       "      <th>NAME</th>\n",
       "      <th>ELEVATION_FT</th>\n",
       "      <th>CONTINENT</th>\n",
       "      <th>ISO_COUNTRY</th>\n",
       "      <th>MUNICIPALITY</th>\n",
       "      <th>IATA_CODE</th>\n",
       "      <th>COORDINATES</th>\n",
       "    </tr>\n",
       "  </thead>\n",
       "  <tbody>\n",
       "    <tr>\n",
       "      <th>27682</th>\n",
       "      <td>small_airport</td>\n",
       "      <td>Hilton Head Airport</td>\n",
       "      <td>19.0</td>\n",
       "      <td>NaN</td>\n",
       "      <td>US</td>\n",
       "      <td>Hilton Head Island</td>\n",
       "      <td>HHH</td>\n",
       "      <td>-80.6975021362, 32.2243995667</td>\n",
       "    </tr>\n",
       "    <tr>\n",
       "      <th>27683</th>\n",
       "      <td>small_airport</td>\n",
       "      <td>Hartford Municipal Airport</td>\n",
       "      <td>1069.0</td>\n",
       "      <td>NaN</td>\n",
       "      <td>US</td>\n",
       "      <td>Hartford</td>\n",
       "      <td>NaN</td>\n",
       "      <td>-88.39109802, 43.34930038</td>\n",
       "    </tr>\n",
       "    <tr>\n",
       "      <th>27684</th>\n",
       "      <td>medium_airport</td>\n",
       "      <td>Barnstable Municipal Boardman Polando Field</td>\n",
       "      <td>54.0</td>\n",
       "      <td>NaN</td>\n",
       "      <td>US</td>\n",
       "      <td>Hyannis</td>\n",
       "      <td>HYA</td>\n",
       "      <td>-70.28040314, 41.66930008</td>\n",
       "    </tr>\n",
       "    <tr>\n",
       "      <th>27685</th>\n",
       "      <td>medium_airport</td>\n",
       "      <td>San Marcos Regional Airport</td>\n",
       "      <td>597.0</td>\n",
       "      <td>NaN</td>\n",
       "      <td>US</td>\n",
       "      <td>San Marcos</td>\n",
       "      <td>NaN</td>\n",
       "      <td>-97.862999, 29.8927</td>\n",
       "    </tr>\n",
       "    <tr>\n",
       "      <th>27686</th>\n",
       "      <td>medium_airport</td>\n",
       "      <td>Sawyer County Airport</td>\n",
       "      <td>1216.0</td>\n",
       "      <td>NaN</td>\n",
       "      <td>US</td>\n",
       "      <td>Hayward</td>\n",
       "      <td>HYR</td>\n",
       "      <td>-91.44429779050002, 46.025199890100005</td>\n",
       "    </tr>\n",
       "  </tbody>\n",
       "</table>\n",
       "</div>"
      ],
      "text/plain": [
       "                 TYPE                                         NAME  \\\n",
       "27682   small_airport                          Hilton Head Airport   \n",
       "27683   small_airport                   Hartford Municipal Airport   \n",
       "27684  medium_airport  Barnstable Municipal Boardman Polando Field   \n",
       "27685  medium_airport                  San Marcos Regional Airport   \n",
       "27686  medium_airport                        Sawyer County Airport   \n",
       "\n",
       "       ELEVATION_FT CONTINENT ISO_COUNTRY        MUNICIPALITY IATA_CODE  \\\n",
       "27682          19.0       NaN          US  Hilton Head Island       HHH   \n",
       "27683        1069.0       NaN          US            Hartford       NaN   \n",
       "27684          54.0       NaN          US             Hyannis       HYA   \n",
       "27685         597.0       NaN          US          San Marcos       NaN   \n",
       "27686        1216.0       NaN          US             Hayward       HYR   \n",
       "\n",
       "                                  COORDINATES  \n",
       "27682           -80.6975021362, 32.2243995667  \n",
       "27683               -88.39109802, 43.34930038  \n",
       "27684               -70.28040314, 41.66930008  \n",
       "27685                     -97.862999, 29.8927  \n",
       "27686  -91.44429779050002, 46.025199890100005  "
      ]
     },
     "execution_count": 46,
     "metadata": {},
     "output_type": "execute_result"
    }
   ],
   "source": [
    "# Investigating the middle 5 rows \n",
    "display_middle_rows(airport_codes_clean, 5)"
   ]
  },
  {
   "cell_type": "code",
   "execution_count": 47,
   "metadata": {},
   "outputs": [
    {
     "data": {
      "text/html": [
       "<div>\n",
       "<style scoped>\n",
       "    .dataframe tbody tr th:only-of-type {\n",
       "        vertical-align: middle;\n",
       "    }\n",
       "\n",
       "    .dataframe tbody tr th {\n",
       "        vertical-align: top;\n",
       "    }\n",
       "\n",
       "    .dataframe thead th {\n",
       "        text-align: right;\n",
       "    }\n",
       "</style>\n",
       "<table border=\"1\" class=\"dataframe\">\n",
       "  <thead>\n",
       "    <tr style=\"text-align: right;\">\n",
       "      <th></th>\n",
       "      <th>TYPE</th>\n",
       "      <th>NAME</th>\n",
       "      <th>ELEVATION_FT</th>\n",
       "      <th>CONTINENT</th>\n",
       "      <th>ISO_COUNTRY</th>\n",
       "      <th>MUNICIPALITY</th>\n",
       "      <th>IATA_CODE</th>\n",
       "      <th>COORDINATES</th>\n",
       "    </tr>\n",
       "  </thead>\n",
       "  <tbody>\n",
       "    <tr>\n",
       "      <th>55364</th>\n",
       "      <td>medium_airport</td>\n",
       "      <td>Yingkou Lanqi Airport</td>\n",
       "      <td>0.0</td>\n",
       "      <td>AS</td>\n",
       "      <td>CN</td>\n",
       "      <td>Yingkou</td>\n",
       "      <td>YKH</td>\n",
       "      <td>122.3586, 40.542524</td>\n",
       "    </tr>\n",
       "    <tr>\n",
       "      <th>55365</th>\n",
       "      <td>medium_airport</td>\n",
       "      <td>Shenyang Dongta Airport</td>\n",
       "      <td>NaN</td>\n",
       "      <td>AS</td>\n",
       "      <td>CN</td>\n",
       "      <td>Shenyang</td>\n",
       "      <td>NaN</td>\n",
       "      <td>123.49600219726562, 41.784400939941406</td>\n",
       "    </tr>\n",
       "    <tr>\n",
       "      <th>55366</th>\n",
       "      <td>heliport</td>\n",
       "      <td>Sealand Helipad</td>\n",
       "      <td>40.0</td>\n",
       "      <td>EU</td>\n",
       "      <td>GB</td>\n",
       "      <td>Sealand</td>\n",
       "      <td>NaN</td>\n",
       "      <td>1.4825, 51.894444</td>\n",
       "    </tr>\n",
       "    <tr>\n",
       "      <th>55367</th>\n",
       "      <td>small_airport</td>\n",
       "      <td>Glorioso Islands Airstrip</td>\n",
       "      <td>11.0</td>\n",
       "      <td>AF</td>\n",
       "      <td>TF</td>\n",
       "      <td>Grande Glorieuse</td>\n",
       "      <td>NaN</td>\n",
       "      <td>47.296388888900005, -11.584277777799999</td>\n",
       "    </tr>\n",
       "    <tr>\n",
       "      <th>55368</th>\n",
       "      <td>small_airport</td>\n",
       "      <td>Satsuma IÅjima Airport</td>\n",
       "      <td>338.0</td>\n",
       "      <td>AS</td>\n",
       "      <td>JP</td>\n",
       "      <td>Mishima-Mura</td>\n",
       "      <td>NaN</td>\n",
       "      <td>130.270556, 30.784722</td>\n",
       "    </tr>\n",
       "  </tbody>\n",
       "</table>\n",
       "</div>"
      ],
      "text/plain": [
       "                 TYPE                       NAME  ELEVATION_FT CONTINENT  \\\n",
       "55364  medium_airport      Yingkou Lanqi Airport           0.0        AS   \n",
       "55365  medium_airport    Shenyang Dongta Airport           NaN        AS   \n",
       "55366        heliport            Sealand Helipad          40.0        EU   \n",
       "55367   small_airport  Glorioso Islands Airstrip          11.0        AF   \n",
       "55368   small_airport    Satsuma IÅjima Airport         338.0        AS   \n",
       "\n",
       "      ISO_COUNTRY      MUNICIPALITY IATA_CODE  \\\n",
       "55364          CN           Yingkou       YKH   \n",
       "55365          CN          Shenyang       NaN   \n",
       "55366          GB           Sealand       NaN   \n",
       "55367          TF  Grande Glorieuse       NaN   \n",
       "55368          JP      Mishima-Mura       NaN   \n",
       "\n",
       "                                   COORDINATES  \n",
       "55364                      122.3586, 40.542524  \n",
       "55365   123.49600219726562, 41.784400939941406  \n",
       "55366                        1.4825, 51.894444  \n",
       "55367  47.296388888900005, -11.584277777799999  \n",
       "55368                    130.270556, 30.784722  "
      ]
     },
     "execution_count": 47,
     "metadata": {},
     "output_type": "execute_result"
    }
   ],
   "source": [
    "# Investigation the 5 last rows\n",
    "airport_codes_clean.tail()"
   ]
  },
  {
   "cell_type": "markdown",
   "metadata": {},
   "source": [
    "#### Remarks: \n",
    "-  After observing the top 5, middle 5, and last 5 rows in the airpo data, I notice nothing that jumps out of the ordinary.\n",
    "-  Next, I will explore duplicates, restrict the data to only the US and missings"
   ]
  },
  {
   "cell_type": "code",
   "execution_count": 48,
   "metadata": {},
   "outputs": [
    {
     "data": {
      "text/plain": [
       "101"
      ]
     },
     "execution_count": 48,
     "metadata": {},
     "output_type": "execute_result"
    }
   ],
   "source": [
    "# Examining duplicates with respect to all the columns \n",
    "airport_codes_clean.duplicated().sum()"
   ]
  },
  {
   "cell_type": "markdown",
   "metadata": {},
   "source": [
    "#### Remarks: \n",
    "-  There are 101 dupliactes with respect to all the colomns. Here are the next steps I will be taking:\n",
    "1. I will drop the duplicates as I did for the flights and tickets datasets\n",
    "2. I will restrict the data to only the airports within the US using their IATA codes\n",
    "3. I will filter only the large and medium airports\n",
    "4. I will explore missings\n",
    "5. If there is missing in the IATA_CODE colmun I will drop them\n",
    "- These steps will allow me to keep only the valid medium and large airports within the US"
   ]
  },
  {
   "cell_type": "code",
   "execution_count": 49,
   "metadata": {},
   "outputs": [],
   "source": [
    "# Dropping the 101 duplicates with respect to all the columns \n",
    "airport_codes_clean = airport_codes_clean.drop_duplicates()"
   ]
  },
  {
   "cell_type": "code",
   "execution_count": 50,
   "metadata": {},
   "outputs": [],
   "source": [
    "# Keep only rows where ISO_COUNTRY is equal to 'US'\n",
    "airport_codes_clean = airport_codes_clean[airport_codes_clean['ISO_COUNTRY'] == 'US']\n",
    "# Reset the index in place\n",
    "airport_codes_clean.reset_index(drop=True, inplace=True)"
   ]
  },
  {
   "cell_type": "code",
   "execution_count": 51,
   "metadata": {},
   "outputs": [],
   "source": [
    "# Filter rows where TYPE is 'medium_airport' or 'large_airport'\n",
    "airport_codes_clean = airport_codes_clean[airport_codes_clean['TYPE'].isin(['medium_airport', 'large_airport'])]"
   ]
  },
  {
   "cell_type": "code",
   "execution_count": 52,
   "metadata": {},
   "outputs": [
    {
     "name": "stdout",
     "output_type": "stream",
     "text": [
      "Missing Values Information:\n",
      "         Column  Missing Values  Percentage\n",
      "0          TYPE               0        0.00\n",
      "1          NAME               0        0.00\n",
      "2  ELEVATION_FT               3        0.35\n",
      "3     CONTINENT             858      100.00\n",
      "4   ISO_COUNTRY               0        0.00\n",
      "5  MUNICIPALITY               3        0.35\n",
      "6     IATA_CODE              37        4.31\n",
      "7   COORDINATES               0        0.00\n"
     ]
    }
   ],
   "source": [
    "# Exploring the percentage of missing in every columns\n",
    "detect_missing_values(airport_codes_clean)"
   ]
  },
  {
   "cell_type": "markdown",
   "metadata": {},
   "source": [
    "#### Remarks: \n",
    "- There are still 37 missings in the IATA_CODE and I will drop them\n",
    "- This will help me for a quality merging later with the flights and tickets"
   ]
  },
  {
   "cell_type": "code",
   "execution_count": 53,
   "metadata": {},
   "outputs": [],
   "source": [
    "# Drop rows where 'IATA_CODE' is missing\n",
    "airport_codes_clean.dropna(subset=['IATA_CODE'], inplace=True)\n",
    "# Resetting the index\n",
    "airport_codes_clean.reset_index(drop=True, inplace=True)"
   ]
  },
  {
   "cell_type": "code",
   "execution_count": 54,
   "metadata": {},
   "outputs": [
    {
     "name": "stdout",
     "output_type": "stream",
     "text": [
      "Missing Values Information:\n",
      "         Column  Missing Values  Percentage\n",
      "0          TYPE               0         0.0\n",
      "1          NAME               0         0.0\n",
      "2  ELEVATION_FT               0         0.0\n",
      "3     CONTINENT             821       100.0\n",
      "4   ISO_COUNTRY               0         0.0\n",
      "5  MUNICIPALITY               0         0.0\n",
      "6     IATA_CODE               0         0.0\n",
      "7   COORDINATES               0         0.0\n"
     ]
    }
   ],
   "source": [
    "# Exploring the percentage of missing in every columns\n",
    "detect_missing_values(airport_codes_clean)"
   ]
  },
  {
   "cell_type": "markdown",
   "metadata": {},
   "source": [
    "#### Remarks:\n",
    "- CONTINENT is missing everywhere. I could drop it, but it does not bother to keep it for now."
   ]
  },
  {
   "cell_type": "code",
   "execution_count": 55,
   "metadata": {},
   "outputs": [
    {
     "data": {
      "image/png": "[encoded data removed]",
      "text/plain": [
       "<Figure size 576x576 with 1 Axes>"
      ]
     },
     "metadata": {},
     "output_type": "display_data"
    }
   ],
   "source": [
    "# Plotting the pie chart TYPE to visualize the relative percentages of larger and medium airports\n",
    "plot_pie_chart(airport_codes_clean, 'TYPE')"
   ]
  },
  {
   "cell_type": "code",
   "execution_count": 56,
   "metadata": {},
   "outputs": [],
   "source": [
    "# I can also plot the bar graph of the TYPE\n",
    "# plot_bar_chart_with_percentages(airport_codes_clean, 'TYPE')\n"
   ]
  },
  {
   "cell_type": "code",
   "execution_count": 57,
   "metadata": {},
   "outputs": [],
   "source": [
    "# Splitting the COORDINATES columns into longitude and latitude\n",
    "# This would be very helpful if we needed to plot the airports on a map\n",
    "airport_codes_clean = split_coordinates(airport_codes_clean, 'COORDINATES')"
   ]
  },
  {
   "cell_type": "markdown",
   "metadata": {},
   "source": [
    "#### Remarks: \n",
    "- After all the above cleaning, the medium airports represent 79.3% in our clean airpot codes data\n",
    "- Next, it is time now to merge the flights, ticket and airport codes datasets "
   ]
  },
  {
   "cell_type": "markdown",
   "metadata": {},
   "source": [
    "<br>\n",
    "<br>\n",
    "<br>\n",
    "<br>\n",
    "<br>\n",
    "\n",
    "### Recapitulation on previous cleaning and restrictions: \n",
    "**Flights dataset:**\n",
    "1. Converted FL_DATE to YYYY-MM-DD format \n",
    "2. Converted  AIR_TIME and DISTANCE from objects format to float64 format\n",
    "3. Dropped the 4545 duplicates with respect to all the columns \n",
    "4. Replaced missing values in columns with the median (because of outliers) in columns 'DEP_DELAY', 'ARR_DELAY', 'AIR_TIME', 'DISTANCE', and ‘OCCUPANCY_RATE'\n",
    "5. Dropped out 12111  rows where TAIL_NUM is missing\n",
    "6. Dropped out 39368 rows where the ‘flight is cancelled (CANCELLED' == 1)\n",
    "    - Final data: flights_clean\n",
    "\n",
    "**Tickets dataset:**\n",
    "1. Converted ITIN_FARE from string to float64 format\n",
    "2. Dropped out  71898 duplicates with respect to all the columns \n",
    "3. Imputed missing values in columns 'PASSENGERS', and ‘ITIN_FARE' with the median because of outliers\n",
    "4. Kept only the 661036 rows of round tickets, dropping out 434351 rows where the column ROUNDTRIP == 0\n",
    "    - Final data: tickets_clean\n",
    "\n",
    "**Airports Codes dataset:**\n",
    "1. Dropped the 101 duplicates with respect to all the columns\n",
    "2. Kept only the US airport IATA CODES, meaning keeping rows where ISO_COUNTRY is equal to 'US’.  This ensures we are only dealing with US domestic airports\n",
    "3. Filtered only  rows where TYPE is 'medium_airport' or 'large_airport'\n",
    "4. Dropped out 37 invalid  rows where 'IATA_CODE' is missing\n",
    "    - Final data: airport_codes_clean"
   ]
  },
  {
   "cell_type": "markdown",
   "metadata": {},
   "source": [
    "### Next --> Steps to aggreagte and merge the flights, tickets, and airports codes datasets\n",
    "**Filter out US domestic flights on both ORIGIN and DESTINATION:**\n",
    "1. Merge the flights_clean and airport_codes_clean with ORIGIN and IATA_CODE as keys on left and right respectively using inner join. This ensures the origin flights are US domesic market only because I made sure the IATA CODES in airport_codes_clean are all within the US.\n",
    "    - Resulting data: **flights_airportcodes_merge1**\n",
    "2. Merge the **flights_airportcodes_merge1** above and airport_codes_clean with DESTINATION and IATA_CODE as keys on left and right respectively using inner join. This ensures the destination flights are US domesic market only\n",
    "      - Resulting data: **flights_airportcodes_merge2**\n",
    "3. Create the routes identifiers called ROUTE_ID\n",
    "**Filter out US domestic tickets on DESTINATION:**\n",
    "1. Merge the tickets_clean and airport_codes_clean with DESTINATION and IATA_CODE as keys on left and right respectively using inner join. This ensures the destination tickets are US domesic market only.\n",
    "      - Resulting data: **tickets_airportcodes_merge3**\n",
    "2. **_Commnent_:** I don't need to filter the tickets at the roigin because the column ORIGIN_COUNTRY in the tickets dataset ensured me that the origin of all the tickets is the US.\n",
    "\n",
    "**Aggregate the tickects_clean:**\n",
    "1. I will create the route identifiers ROUTE_ID in **tickets_airportcodes_merge3**\n",
    "2. I will aggregate the **tickets_airportcodes_merge3** on the total ROUNDTRIP, PASSENGERS, and ITIN_FARE for every ROUTE_ID\n",
    "      - Resulting data: **tickets_airportcodes_merge3_aggreg**\n",
    "\n",
    "Finally, I will merge **flights_airportcodes_merge2** and **tickets_airportcodes_merge3_aggreg** using ROUTE_ID as the key and an inner join."
   ]
  },
  {
   "cell_type": "markdown",
   "metadata": {},
   "source": [
    "\n",
    "### Imperfections in the datasets and limitations of the above merging approach:\n",
    "1. The ideal would be to connect every ticket to its flight using the tickets_clean and flights_clean data before aggregating total ROUNDTRIP, PASSENGERS, and ITIN_FARE within ROUTE_ID in the tickets_clean\n",
    "2. But with the provided information, I failed to connect evey ticket to its flight\n",
    "3. I tried hard to extract and combine information from other columns to do that, but I failed at this points.\n",
    "4. For example, I attempted to break ITIN_ID column down to extract some information but hit a wall. \n",
    "4. I searched  many open-source resources but did not succeed so far to find helpful information.\n",
    "5. So, the main flaw in my merging method is the following:\n",
    "    - aggreagting total ROUNDTRIP, PASSENGERS, and ITIN_FARE with ROUTE_ID in the tickets_clean might be compromised by cacelled flights information.\n",
    "    - However, any ROUTE_ID in tickets_clean where all the flights have been cancelled will be dropped after merging with flights_clean. This is good for me as it will improve the accuracy of my analysis.  \n",
    "    - **For now, I assume that every tickets in the tickets_clean data is on a flight that was not called.** \n",
    "6. If I have more time, I would further my search on how to link the tickets to the flights. \n",
    "<br>\n",
    "<br>\n",
    "<br>\n",
    "<br>\n",
    "<br>"
   ]
  },
  {
   "cell_type": "code",
   "execution_count": 58,
   "metadata": {},
   "outputs": [],
   "source": [
    "\n",
    "# Aggregating and Merging flights_clean, tickets_clean, and airport_codes_clean together\n",
    "flights_tickets_airportcodes_final = merge_flights_tickets_airportcodes(flights_clean, tickets_clean, airport_codes_clean)\n"
   ]
  },
  {
   "cell_type": "code",
   "execution_count": 59,
   "metadata": {},
   "outputs": [
    {
     "data": {
      "text/plain": [
       "Index(['FL_DATE', 'OP_CARRIER', 'TAIL_NUM', 'OP_CARRIER_FL_NUM',\n",
       "       'ORIGIN_AIRPORT_ID', 'ORIGIN', 'ORIGIN_CITY_NAME', 'DEST_AIRPORT_ID',\n",
       "       'DESTINATION', 'DEST_CITY_NAME', 'DEP_DELAY', 'ARR_DELAY', 'CANCELLED',\n",
       "       'AIR_TIME', 'DISTANCE', 'OCCUPANCY_RATE', 'TYPE_ORIG', 'NAME_ORIG',\n",
       "       'ELEVATION_FT_ORIG', 'CONTINENT_ORIG', 'ISO_COUNTRY_ORIG',\n",
       "       'MUNICIPALITY_ORIG', 'IATA_CODE_ORIG', 'COORDINATES_ORIG',\n",
       "       'LATITUDE_ORIG', 'LONGITUDE_ORIG', 'TYPE_DEST', 'NAME_DEST',\n",
       "       'ELEVATION_FT_DEST', 'CONTINENT_DEST', 'ISO_COUNTRY_DEST',\n",
       "       'MUNICIPALITY_DEST', 'IATA_CODE_DEST', 'COORDINATES_DEST',\n",
       "       'LATITUDE_DEST', 'LONGITUDE_DEST', 'ROUTE_ID', 'sum_ROUNDTRIP',\n",
       "       'sum_PASSENGERS', 'mean_PASSENGERS', 'sum_ITIN_FARE', 'mean_ITIN_FARE'],\n",
       "      dtype='object')"
      ]
     },
     "execution_count": 59,
     "metadata": {},
     "output_type": "execute_result"
    }
   ],
   "source": [
    "flights_tickets_airportcodes_final.columns"
   ]
  },
  {
   "cell_type": "markdown",
   "metadata": {},
   "source": [
    "<br>\n",
    "<br>\n",
    "<br>\n",
    "<br>\n",
    "<br>\n",
    "\n",
    "##  Analysis"
   ]
  },
  {
   "cell_type": "markdown",
   "metadata": {},
   "source": [
    "1. **The 10 busiest round trip routes in terms of number of round trip flights in the quarter without the canceled flights.**"
   ]
  },
  {
   "cell_type": "code",
   "execution_count": 60,
   "metadata": {},
   "outputs": [
    {
     "data": {
      "image/png": "[encoded data removed]",
      "text/plain": [
       "<Figure size 864x432 with 1 Axes>"
      ]
     },
     "metadata": {
      "needs_background": "light"
     },
     "output_type": "display_data"
    }
   ],
   "source": [
    "# Plotting the top ten routes in terms of total round trip\n",
    "top_data = plot_top_routes(flights_tickets_airportcodes_final, num_bars=10, indicator='sum_ROUNDTRIP', metric='Total Trips', return_dataframe=True)\n"
   ]
  },
  {
   "cell_type": "code",
   "execution_count": 61,
   "metadata": {},
   "outputs": [
    {
     "data": {
      "text/plain": [
       "array(['JFK_LAX', 'LGA_ORD', 'JFK_SFO', 'LAX_SFO', 'LAX_ORD', 'EWR_SFO',\n",
       "       'ATL_LGA', 'ATL_LAX', 'LAX_SEA', 'BOS_SFO'], dtype=object)"
      ]
     },
     "execution_count": 61,
     "metadata": {},
     "output_type": "execute_result"
    }
   ],
   "source": [
    "top_data['ROUTE_ID'].unique()"
   ]
  },
  {
   "cell_type": "markdown",
   "metadata": {},
   "source": [
    "\n",
    "- **The top ten busiest round trip routes in terms of the number of trip are:** <br> 'JFK_LAX', 'LGA_ORD', 'JFK_SFO', 'LAX_SFO', 'LAX_ORD', 'EWR_SFO', 'ATL_LGA', 'ATL_LAX', 'LAX_SEA', and 'BOS_SFO'"
   ]
  },
  {
   "cell_type": "markdown",
   "metadata": {},
   "source": [
    "<br>\n",
    "<br>\n",
    "\n",
    "\n",
    "2. **The 10 most profitable round trip routes without considering the upfront airplane cost in the quarter:**\n",
    "- **PROFIT** = REVENUE - COST\n",
    "<br>\n",
    "- **REVENUE** = 200 * OCCUPANCY_RATE * (sum_ITIN_FARE/sum_PASSENGERS) + (35+70) * 0.5 * OCCUPANCY_RATE\n",
    "    - Explanation: \n",
    "        - 200 * OCCUPANCY_RATE is the number of passenger per round trip\n",
    "        - sum_ITIN_FARE/sum_PASSENGERS is the average fare per passenger\n",
    "        - (35+70) * 0.5 * OCCUPANCY_RATE is the revenue from baggages and legs\n",
    "<br>\n",
    "- **COST** = 2 * (8 + 1.18) * DISTANCE + 5000 * (DEP_medium_dum + ARR_medium_dum) + 10000 * (DEP_large_dum + ARR_large_dum) + 75 * (DEP_DELAY_toPAY + ARR_DELAY_toPAY)\n",
    "    - Explanation:\n",
    "        - 2 * (8 + 1.18) * DISTANCE is the total cost fo fuel, oil, maintenance, insurance, depreciation, etc. The 2 at the front is because of the going and coming between the two airports\n",
    "        - 5000 * (DEP_medium_dum + ARR_medium_dum) + 10000 * (DEP_large_dum + ARR_large_dum) is the total cost for operational. I created four dummies in a such way that the airline will pay according to whether the origin and destination are medium or large.\n",
    "        - 75 * (DEP_DELAY_toPAY + ARR_DELAY_toPAY) is the cost for delay. I created a function calculate_delay_to_pay to compute the minutes delay to pay at the departure and the origin using the DEP_DELAY and ARR_DELAY variables.\n",
    "- **Next I will aggregate the profit at ROUTE_ID level to determine the ten most profitable routes**\n",
    "- Total round trip flights for the top profitable routes\n",
    "- Summary values of other key components \n",
    "    - Because the company's motto is \"on time for you\", we have to look closely to the delay per ROUTE_ID"
   ]
  },
  {
   "cell_type": "code",
   "execution_count": 62,
   "metadata": {},
   "outputs": [
    {
     "data": {
      "text/plain": [
       "Index(['FL_DATE', 'OP_CARRIER', 'TAIL_NUM', 'OP_CARRIER_FL_NUM',\n",
       "       'ORIGIN_AIRPORT_ID', 'ORIGIN', 'ORIGIN_CITY_NAME', 'DEST_AIRPORT_ID',\n",
       "       'DESTINATION', 'DEST_CITY_NAME', 'DEP_DELAY', 'ARR_DELAY', 'CANCELLED',\n",
       "       'AIR_TIME', 'DISTANCE', 'OCCUPANCY_RATE', 'TYPE_ORIG', 'NAME_ORIG',\n",
       "       'ELEVATION_FT_ORIG', 'CONTINENT_ORIG', 'ISO_COUNTRY_ORIG',\n",
       "       'MUNICIPALITY_ORIG', 'IATA_CODE_ORIG', 'COORDINATES_ORIG',\n",
       "       'LATITUDE_ORIG', 'LONGITUDE_ORIG', 'TYPE_DEST', 'NAME_DEST',\n",
       "       'ELEVATION_FT_DEST', 'CONTINENT_DEST', 'ISO_COUNTRY_DEST',\n",
       "       'MUNICIPALITY_DEST', 'IATA_CODE_DEST', 'COORDINATES_DEST',\n",
       "       'LATITUDE_DEST', 'LONGITUDE_DEST', 'ROUTE_ID', 'sum_ROUNDTRIP',\n",
       "       'sum_PASSENGERS', 'mean_PASSENGERS', 'sum_ITIN_FARE', 'mean_ITIN_FARE'],\n",
       "      dtype='object')"
      ]
     },
     "execution_count": 62,
     "metadata": {},
     "output_type": "execute_result"
    }
   ],
   "source": [
    "flights_tickets_airportcodes_final.columns"
   ]
  },
  {
   "cell_type": "code",
   "execution_count": 63,
   "metadata": {},
   "outputs": [],
   "source": [
    "# flights_tickets_airportcodes_final = calculate_DELAY_metrics(flights_tickets_airportcodes_final, delay_columns=['DEP_DELAY', 'ARR_DELAY'])\n"
   ]
  },
  {
   "cell_type": "code",
   "execution_count": 64,
   "metadata": {},
   "outputs": [
    {
     "data": {
      "text/plain": [
       "Index(['FL_DATE', 'OP_CARRIER', 'TAIL_NUM', 'OP_CARRIER_FL_NUM',\n",
       "       'ORIGIN_AIRPORT_ID', 'ORIGIN', 'ORIGIN_CITY_NAME', 'DEST_AIRPORT_ID',\n",
       "       'DESTINATION', 'DEST_CITY_NAME', 'DEP_DELAY', 'ARR_DELAY', 'CANCELLED',\n",
       "       'AIR_TIME', 'DISTANCE', 'OCCUPANCY_RATE', 'TYPE_ORIG', 'NAME_ORIG',\n",
       "       'ELEVATION_FT_ORIG', 'CONTINENT_ORIG', 'ISO_COUNTRY_ORIG',\n",
       "       'MUNICIPALITY_ORIG', 'IATA_CODE_ORIG', 'COORDINATES_ORIG',\n",
       "       'LATITUDE_ORIG', 'LONGITUDE_ORIG', 'TYPE_DEST', 'NAME_DEST',\n",
       "       'ELEVATION_FT_DEST', 'CONTINENT_DEST', 'ISO_COUNTRY_DEST',\n",
       "       'MUNICIPALITY_DEST', 'IATA_CODE_DEST', 'COORDINATES_DEST',\n",
       "       'LATITUDE_DEST', 'LONGITUDE_DEST', 'ROUTE_ID', 'sum_ROUNDTRIP',\n",
       "       'sum_PASSENGERS', 'mean_PASSENGERS', 'sum_ITIN_FARE', 'mean_ITIN_FARE'],\n",
       "      dtype='object')"
      ]
     },
     "execution_count": 64,
     "metadata": {},
     "output_type": "execute_result"
    }
   ],
   "source": [
    "flights_tickets_airportcodes_final.columns"
   ]
  },
  {
   "cell_type": "code",
   "execution_count": 65,
   "metadata": {},
   "outputs": [],
   "source": [
    "\n",
    "# Calculating DEP_DELAY_toPAY:\n",
    "delay_column='DEP_DELAY'\n",
    "flights_tickets_airportcodes_final = calculate_delay_to_pay(flights_tickets_airportcodes_final, delay_column)\n",
    "\n",
    "# Calculating ARR_DELAY_toPAY:\n",
    "delay_column='ARR_DELAY'\n",
    "flights_tickets_airportcodes_final = calculate_delay_to_pay(flights_tickets_airportcodes_final, delay_column)\n",
    "\n",
    "# Calculating the total DELAY to pay per route and per type of airport\n",
    "flights_tickets_airportcodes_final = calculate_total_DELAY_toPAY(flights_tickets_airportcodes_final)\n"
   ]
  },
  {
   "cell_type": "code",
   "execution_count": 66,
   "metadata": {},
   "outputs": [
    {
     "data": {
      "text/plain": [
       "Index(['FL_DATE', 'OP_CARRIER', 'TAIL_NUM', 'OP_CARRIER_FL_NUM',\n",
       "       'ORIGIN_AIRPORT_ID', 'ORIGIN', 'ORIGIN_CITY_NAME', 'DEST_AIRPORT_ID',\n",
       "       'DESTINATION', 'DEST_CITY_NAME', 'DEP_DELAY', 'ARR_DELAY', 'CANCELLED',\n",
       "       'AIR_TIME', 'DISTANCE', 'OCCUPANCY_RATE', 'TYPE_ORIG', 'NAME_ORIG',\n",
       "       'ELEVATION_FT_ORIG', 'CONTINENT_ORIG', 'ISO_COUNTRY_ORIG',\n",
       "       'MUNICIPALITY_ORIG', 'IATA_CODE_ORIG', 'COORDINATES_ORIG',\n",
       "       'LATITUDE_ORIG', 'LONGITUDE_ORIG', 'TYPE_DEST', 'NAME_DEST',\n",
       "       'ELEVATION_FT_DEST', 'CONTINENT_DEST', 'ISO_COUNTRY_DEST',\n",
       "       'MUNICIPALITY_DEST', 'IATA_CODE_DEST', 'COORDINATES_DEST',\n",
       "       'LATITUDE_DEST', 'LONGITUDE_DEST', 'ROUTE_ID', 'sum_ROUNDTRIP',\n",
       "       'sum_PASSENGERS', 'mean_PASSENGERS', 'sum_ITIN_FARE', 'mean_ITIN_FARE',\n",
       "       'DEP_DELAY_toPAY', 'ARR_DELAY_toPAY', 'sum_DEP_DELAY_toPAY',\n",
       "       'sum_ARR_DELAY_toPAY'],\n",
       "      dtype='object')"
      ]
     },
     "execution_count": 66,
     "metadata": {},
     "output_type": "execute_result"
    }
   ],
   "source": [
    "flights_tickets_airportcodes_final.columns"
   ]
  },
  {
   "cell_type": "code",
   "execution_count": 67,
   "metadata": {},
   "outputs": [],
   "source": [
    "\n",
    "# Calculating total departure, arrival, and overall total delay per route\n",
    "flights_tickets_airportcodes_final = add_delay_columns(flights_tickets_airportcodes_final)"
   ]
  },
  {
   "cell_type": "code",
   "execution_count": 68,
   "metadata": {},
   "outputs": [
    {
     "name": "stdout",
     "output_type": "stream",
     "text": [
      "<class 'pandas.core.frame.DataFrame'>\n",
      "RangeIndex: 1819692 entries, 0 to 1819691\n",
      "Data columns (total 49 columns):\n",
      " #   Column               Dtype  \n",
      "---  ------               -----  \n",
      " 0   FL_DATE              object \n",
      " 1   OP_CARRIER           object \n",
      " 2   TAIL_NUM             object \n",
      " 3   OP_CARRIER_FL_NUM    object \n",
      " 4   ORIGIN_AIRPORT_ID    int64  \n",
      " 5   ORIGIN               object \n",
      " 6   ORIGIN_CITY_NAME     object \n",
      " 7   DEST_AIRPORT_ID      int64  \n",
      " 8   DESTINATION          object \n",
      " 9   DEST_CITY_NAME       object \n",
      " 10  DEP_DELAY            float64\n",
      " 11  ARR_DELAY            float64\n",
      " 12  CANCELLED            float64\n",
      " 13  AIR_TIME             float64\n",
      " 14  DISTANCE             float64\n",
      " 15  OCCUPANCY_RATE       float64\n",
      " 16  TYPE_ORIG            object \n",
      " 17  NAME_ORIG            object \n",
      " 18  ELEVATION_FT_ORIG    float64\n",
      " 19  CONTINENT_ORIG       object \n",
      " 20  ISO_COUNTRY_ORIG     object \n",
      " 21  MUNICIPALITY_ORIG    object \n",
      " 22  IATA_CODE_ORIG       object \n",
      " 23  COORDINATES_ORIG     object \n",
      " 24  LATITUDE_ORIG        float64\n",
      " 25  LONGITUDE_ORIG       float64\n",
      " 26  TYPE_DEST            object \n",
      " 27  NAME_DEST            object \n",
      " 28  ELEVATION_FT_DEST    float64\n",
      " 29  CONTINENT_DEST       object \n",
      " 30  ISO_COUNTRY_DEST     object \n",
      " 31  MUNICIPALITY_DEST    object \n",
      " 32  IATA_CODE_DEST       object \n",
      " 33  COORDINATES_DEST     object \n",
      " 34  LATITUDE_DEST        float64\n",
      " 35  LONGITUDE_DEST       float64\n",
      " 36  ROUTE_ID             object \n",
      " 37  sum_ROUNDTRIP        float64\n",
      " 38  sum_PASSENGERS       float64\n",
      " 39  mean_PASSENGERS      float64\n",
      " 40  sum_ITIN_FARE        float64\n",
      " 41  mean_ITIN_FARE       float64\n",
      " 42  DEP_DELAY_toPAY      float64\n",
      " 43  ARR_DELAY_toPAY      float64\n",
      " 44  sum_DEP_DELAY_toPAY  float64\n",
      " 45  sum_ARR_DELAY_toPAY  float64\n",
      " 46  sum_DEP_DELAY        float64\n",
      " 47  sum_ARR_DELAY        float64\n",
      " 48  sum_DELAY            float64\n",
      "dtypes: float64(24), int64(2), object(23)\n",
      "memory usage: 680.3+ MB\n"
     ]
    }
   ],
   "source": [
    "\n",
    "# Checking the data again\n",
    "# flights_tickets_airportcodes_final.info()\n"
   ]
  },
  {
   "cell_type": "code",
   "execution_count": 69,
   "metadata": {},
   "outputs": [],
   "source": [
    "# Creating the origin and destination dummies for medium and large airports\n",
    "flights_tickets_airportcodes_final = create_dummies(flights_tickets_airportcodes_final)"
   ]
  },
  {
   "cell_type": "code",
   "execution_count": 70,
   "metadata": {},
   "outputs": [],
   "source": [
    "\n",
    "# Creating Cost, Revenue, and Profit\n",
    "flights_tickets_airportcodes_final = profit(flights_tickets_airportcodes_final)\n"
   ]
  },
  {
   "cell_type": "code",
   "execution_count": 71,
   "metadata": {},
   "outputs": [
    {
     "data": {
      "image/png": "[encoded data removed]",
      "text/plain": [
       "<Figure size 864x432 with 1 Axes>"
      ]
     },
     "metadata": {
      "needs_background": "light"
     },
     "output_type": "display_data"
    }
   ],
   "source": [
    "top_data = plot_top_routes(flights_tickets_airportcodes_final, num_bars=10, indicator='sum_PROFIT', metric='Profit', return_dataframe=True)"
   ]
  },
  {
   "cell_type": "code",
   "execution_count": 72,
   "metadata": {},
   "outputs": [
    {
     "data": {
      "text/html": [
       "<div>\n",
       "<style scoped>\n",
       "    .dataframe tbody tr th:only-of-type {\n",
       "        vertical-align: middle;\n",
       "    }\n",
       "\n",
       "    .dataframe tbody tr th {\n",
       "        vertical-align: top;\n",
       "    }\n",
       "\n",
       "    .dataframe thead th {\n",
       "        text-align: right;\n",
       "    }\n",
       "</style>\n",
       "<table border=\"1\" class=\"dataframe\">\n",
       "  <thead>\n",
       "    <tr style=\"text-align: right;\">\n",
       "      <th></th>\n",
       "      <th>ROUTE_ID</th>\n",
       "      <th>sum_ROUNDTRIP</th>\n",
       "      <th>sum_PROFIT</th>\n",
       "    </tr>\n",
       "  </thead>\n",
       "  <tbody>\n",
       "    <tr>\n",
       "      <th>1542216</th>\n",
       "      <td>SLC_TWF</td>\n",
       "      <td>13.0</td>\n",
       "      <td>1.248970e+08</td>\n",
       "    </tr>\n",
       "    <tr>\n",
       "      <th>1386956</th>\n",
       "      <td>CLT_FLO</td>\n",
       "      <td>1.0</td>\n",
       "      <td>1.217753e+08</td>\n",
       "    </tr>\n",
       "    <tr>\n",
       "      <th>1330023</th>\n",
       "      <td>CLT_GSP</td>\n",
       "      <td>3.0</td>\n",
       "      <td>1.098061e+08</td>\n",
       "    </tr>\n",
       "    <tr>\n",
       "      <th>1359196</th>\n",
       "      <td>CLT_GSO</td>\n",
       "      <td>1.0</td>\n",
       "      <td>9.952659e+07</td>\n",
       "    </tr>\n",
       "    <tr>\n",
       "      <th>1372284</th>\n",
       "      <td>CLT_ILM</td>\n",
       "      <td>13.0</td>\n",
       "      <td>8.651255e+07</td>\n",
       "    </tr>\n",
       "    <tr>\n",
       "      <th>1326358</th>\n",
       "      <td>CHS_CLT</td>\n",
       "      <td>16.0</td>\n",
       "      <td>8.110414e+07</td>\n",
       "    </tr>\n",
       "    <tr>\n",
       "      <th>1302948</th>\n",
       "      <td>MDT_PHL</td>\n",
       "      <td>1.0</td>\n",
       "      <td>7.978695e+07</td>\n",
       "    </tr>\n",
       "    <tr>\n",
       "      <th>1378330</th>\n",
       "      <td>CLT_MYR</td>\n",
       "      <td>6.0</td>\n",
       "      <td>7.031784e+07</td>\n",
       "    </tr>\n",
       "    <tr>\n",
       "      <th>1367730</th>\n",
       "      <td>AVL_CLT</td>\n",
       "      <td>1.0</td>\n",
       "      <td>6.806031e+07</td>\n",
       "    </tr>\n",
       "    <tr>\n",
       "      <th>670521</th>\n",
       "      <td>FAR_MSP</td>\n",
       "      <td>30.0</td>\n",
       "      <td>6.675329e+07</td>\n",
       "    </tr>\n",
       "  </tbody>\n",
       "</table>\n",
       "</div>"
      ],
      "text/plain": [
       "        ROUTE_ID  sum_ROUNDTRIP    sum_PROFIT\n",
       "1542216  SLC_TWF           13.0  1.248970e+08\n",
       "1386956  CLT_FLO            1.0  1.217753e+08\n",
       "1330023  CLT_GSP            3.0  1.098061e+08\n",
       "1359196  CLT_GSO            1.0  9.952659e+07\n",
       "1372284  CLT_ILM           13.0  8.651255e+07\n",
       "1326358  CHS_CLT           16.0  8.110414e+07\n",
       "1302948  MDT_PHL            1.0  7.978695e+07\n",
       "1378330  CLT_MYR            6.0  7.031784e+07\n",
       "1367730  AVL_CLT            1.0  6.806031e+07\n",
       "670521   FAR_MSP           30.0  6.675329e+07"
      ]
     },
     "execution_count": 72,
     "metadata": {},
     "output_type": "execute_result"
    }
   ],
   "source": [
    "top_data[['ROUTE_ID', 'sum_ROUNDTRIP', 'sum_PROFIT']].head(10)"
   ]
  },
  {
   "cell_type": "markdown",
   "metadata": {},
   "source": [
    "### Conclusion:\n",
    "- **The top ten profitable routes in terms of total profit are:** <br> 'SLC_TWF', 'CLT_FLO', 'CLT_GSP', 'CLT_GSO', 'CLT_ILM', 'CHS_CLT','MDT_PHL', 'CLT_MYR', 'AVL_CLT', 'FAR_MSP'\n",
    "- **Their respective total round trips are:** <br>  1572, 1371, 1297, 1142, 1129, 1098, 1084, 1044, 993, and 981\n",
    "- **Their respective profit in $ are:** <br>  they are on the bar graph above"
   ]
  },
  {
   "cell_type": "markdown",
   "metadata": {},
   "source": [
    "### Summary values of other key components\n",
    "- Because punctuality is a big part of the company's brand image, it is important to pay a close attention to delay per route. It will help to balance between profit and reputaion. If a route has a reputaion of delaying airplane, then maybe it will be good to avoid that route all together. This have three sub-components: \n",
    "    - total depay per route \n",
    "    - total departure delay per rooute \n",
    "    - total arrival delay per route\n",
    "- I've anticipated on that by adding sum_DEP_DELAY_toPAY and sum_ARR_DELAY_toPAY"
   ]
  },
  {
   "cell_type": "code",
   "execution_count": 73,
   "metadata": {},
   "outputs": [],
   "source": [
    "# Creating the breakeven metric in the data\n",
    "flights_tickets_airportcodes_final['num_Breakeven_Trip'] = (90000000 / flights_tickets_airportcodes_final['mean_PROFIT']).round().astype(int)"
   ]
  },
  {
   "cell_type": "code",
   "execution_count": 74,
   "metadata": {},
   "outputs": [
    {
     "data": {
      "image/png": "[encoded data removed]",
      "text/plain": [
       "<Figure size 864x432 with 1 Axes>"
      ]
     },
     "metadata": {
      "needs_background": "light"
     },
     "output_type": "display_data"
    }
   ],
   "source": [
    "# Plotting the most delayed routes\n",
    "top_data = plot_top_routes(flights_tickets_airportcodes_final, num_bars=10, indicator='sum_DELAY', metric='Top Delay', return_dataframe=True)"
   ]
  },
  {
   "cell_type": "code",
   "execution_count": 75,
   "metadata": {},
   "outputs": [
    {
     "data": {
      "image/png": "[encoded data removed]",
      "text/plain": [
       "<Figure size 864x432 with 1 Axes>"
      ]
     },
     "metadata": {
      "needs_background": "light"
     },
     "output_type": "display_data"
    }
   ],
   "source": [
    "\n",
    "# Plotting the top least delayed routes writh respect to overall delay\n",
    "top_data_delay = plot_top_least_delayed_routes(flights_tickets_airportcodes_final, num_bars=10, indicator='sum_DELAY', metric='the Least Overall Delay', return_dataframe=True)"
   ]
  },
  {
   "cell_type": "code",
   "execution_count": 76,
   "metadata": {},
   "outputs": [
    {
     "data": {
      "image/png": "[encoded data removed]",
      "text/plain": [
       "<Figure size 864x432 with 1 Axes>"
      ]
     },
     "metadata": {
      "needs_background": "light"
     },
     "output_type": "display_data"
    }
   ],
   "source": [
    "\n",
    "# Plotting the top least delayed routes writh respect to overall delay\n",
    "top_data_delay = plot_top_least_delayed_routes(flights_tickets_airportcodes_final, num_bars=10, indicator='sum_DEP_DELAY', metric='the Least Departure Delay', return_dataframe=True)"
   ]
  },
  {
   "cell_type": "code",
   "execution_count": 77,
   "metadata": {},
   "outputs": [
    {
     "data": {
      "image/png": "[encoded data removed]",
      "text/plain": [
       "<Figure size 864x432 with 1 Axes>"
      ]
     },
     "metadata": {
      "needs_background": "light"
     },
     "output_type": "display_data"
    }
   ],
   "source": [
    "\n",
    "# Plotting the top least delayed routes writh respect to overall delay\n",
    "top_data_delay = plot_top_least_delayed_routes(flights_tickets_airportcodes_final, num_bars=10, indicator='sum_ARR_DELAY', metric='the Least Arrival Delay', return_dataframe=True)"
   ]
  },
  {
   "cell_type": "code",
   "execution_count": 78,
   "metadata": {},
   "outputs": [
    {
     "data": {
      "text/html": [
       "<div>\n",
       "<style scoped>\n",
       "    .dataframe tbody tr th:only-of-type {\n",
       "        vertical-align: middle;\n",
       "    }\n",
       "\n",
       "    .dataframe tbody tr th {\n",
       "        vertical-align: top;\n",
       "    }\n",
       "\n",
       "    .dataframe thead th {\n",
       "        text-align: right;\n",
       "    }\n",
       "</style>\n",
       "<table border=\"1\" class=\"dataframe\">\n",
       "  <thead>\n",
       "    <tr style=\"text-align: right;\">\n",
       "      <th></th>\n",
       "      <th>sum_ROUNDTRIP</th>\n",
       "      <th>sum_PROFIT</th>\n",
       "      <th>sum_DEP_DELAY</th>\n",
       "      <th>sum_ARR_DELAY</th>\n",
       "      <th>sum_DELAY</th>\n",
       "    </tr>\n",
       "  </thead>\n",
       "  <tbody>\n",
       "    <tr>\n",
       "      <th>count</th>\n",
       "      <td>1.819692e+06</td>\n",
       "      <td>1.819692e+06</td>\n",
       "      <td>1.819692e+06</td>\n",
       "      <td>1.819692e+06</td>\n",
       "      <td>1.819692e+06</td>\n",
       "    </tr>\n",
       "    <tr>\n",
       "      <th>mean</th>\n",
       "      <td>2.929639e+02</td>\n",
       "      <td>-1.525623e+07</td>\n",
       "      <td>1.643349e+04</td>\n",
       "      <td>9.250983e+03</td>\n",
       "      <td>2.568448e+04</td>\n",
       "    </tr>\n",
       "    <tr>\n",
       "      <th>std</th>\n",
       "      <td>2.688329e+02</td>\n",
       "      <td>3.671646e+07</td>\n",
       "      <td>1.981276e+04</td>\n",
       "      <td>1.708479e+04</td>\n",
       "      <td>3.629509e+04</td>\n",
       "    </tr>\n",
       "    <tr>\n",
       "      <th>min</th>\n",
       "      <td>1.000000e+00</td>\n",
       "      <td>-2.102041e+08</td>\n",
       "      <td>-6.705000e+03</td>\n",
       "      <td>-1.203300e+04</td>\n",
       "      <td>-1.617000e+04</td>\n",
       "    </tr>\n",
       "    <tr>\n",
       "      <th>25%</th>\n",
       "      <td>8.500000e+01</td>\n",
       "      <td>-3.092287e+07</td>\n",
       "      <td>5.001000e+03</td>\n",
       "      <td>5.210000e+02</td>\n",
       "      <td>5.689000e+03</td>\n",
       "    </tr>\n",
       "    <tr>\n",
       "      <th>50%</th>\n",
       "      <td>2.210000e+02</td>\n",
       "      <td>-7.876798e+06</td>\n",
       "      <td>1.015500e+04</td>\n",
       "      <td>4.097000e+03</td>\n",
       "      <td>1.390700e+04</td>\n",
       "    </tr>\n",
       "    <tr>\n",
       "      <th>75%</th>\n",
       "      <td>4.190000e+02</td>\n",
       "      <td>4.937162e+06</td>\n",
       "      <td>2.140400e+04</td>\n",
       "      <td>1.218800e+04</td>\n",
       "      <td>3.277900e+04</td>\n",
       "    </tr>\n",
       "    <tr>\n",
       "      <th>max</th>\n",
       "      <td>1.572000e+03</td>\n",
       "      <td>1.248970e+08</td>\n",
       "      <td>1.540990e+05</td>\n",
       "      <td>1.403220e+05</td>\n",
       "      <td>2.930100e+05</td>\n",
       "    </tr>\n",
       "  </tbody>\n",
       "</table>\n",
       "</div>"
      ],
      "text/plain": [
       "       sum_ROUNDTRIP    sum_PROFIT  sum_DEP_DELAY  sum_ARR_DELAY     sum_DELAY\n",
       "count   1.819692e+06  1.819692e+06   1.819692e+06   1.819692e+06  1.819692e+06\n",
       "mean    2.929639e+02 -1.525623e+07   1.643349e+04   9.250983e+03  2.568448e+04\n",
       "std     2.688329e+02  3.671646e+07   1.981276e+04   1.708479e+04  3.629509e+04\n",
       "min     1.000000e+00 -2.102041e+08  -6.705000e+03  -1.203300e+04 -1.617000e+04\n",
       "25%     8.500000e+01 -3.092287e+07   5.001000e+03   5.210000e+02  5.689000e+03\n",
       "50%     2.210000e+02 -7.876798e+06   1.015500e+04   4.097000e+03  1.390700e+04\n",
       "75%     4.190000e+02  4.937162e+06   2.140400e+04   1.218800e+04  3.277900e+04\n",
       "max     1.572000e+03  1.248970e+08   1.540990e+05   1.403220e+05  2.930100e+05"
      ]
     },
     "execution_count": 78,
     "metadata": {},
     "output_type": "execute_result"
    }
   ],
   "source": [
    "# Summary Statistics of all the keep component \n",
    "flights_tickets_airportcodes_final[['sum_ROUNDTRIP', 'sum_PROFIT','sum_DEP_DELAY', 'sum_ARR_DELAY', 'sum_DELAY']].describe()"
   ]
  },
  {
   "cell_type": "code",
   "execution_count": 79,
   "metadata": {},
   "outputs": [
    {
     "data": {
      "image/png": "[encoded data removed]",
      "text/plain": [
       "<Figure size 864x432 with 1 Axes>"
      ]
     },
     "metadata": {
      "needs_background": "light"
     },
     "output_type": "display_data"
    }
   ],
   "source": [
    "top_data_profit = plot_top_routes(flights_tickets_airportcodes_final, num_bars=10, indicator='sum_PROFIT', metric='Profit', return_dataframe=True)"
   ]
  },
  {
   "cell_type": "code",
   "execution_count": 80,
   "metadata": {},
   "outputs": [
    {
     "data": {
      "text/html": [
       "<div>\n",
       "<style scoped>\n",
       "    .dataframe tbody tr th:only-of-type {\n",
       "        vertical-align: middle;\n",
       "    }\n",
       "\n",
       "    .dataframe tbody tr th {\n",
       "        vertical-align: top;\n",
       "    }\n",
       "\n",
       "    .dataframe thead th {\n",
       "        text-align: right;\n",
       "    }\n",
       "</style>\n",
       "<table border=\"1\" class=\"dataframe\">\n",
       "  <thead>\n",
       "    <tr style=\"text-align: right;\">\n",
       "      <th></th>\n",
       "      <th>ROUTE_ID</th>\n",
       "      <th>sum_ROUNDTRIP</th>\n",
       "      <th>sum_PROFIT</th>\n",
       "      <th>sum_DEP_DELAY</th>\n",
       "      <th>sum_ARR_DELAY</th>\n",
       "      <th>sum_DELAY</th>\n",
       "    </tr>\n",
       "  </thead>\n",
       "  <tbody>\n",
       "    <tr>\n",
       "      <th>1378330</th>\n",
       "      <td>CLT_MYR</td>\n",
       "      <td>6.0</td>\n",
       "      <td>7.031784e+07</td>\n",
       "      <td>4719.0</td>\n",
       "      <td>-3073.0</td>\n",
       "      <td>1646.0</td>\n",
       "    </tr>\n",
       "    <tr>\n",
       "      <th>1386956</th>\n",
       "      <td>CLT_FLO</td>\n",
       "      <td>1.0</td>\n",
       "      <td>1.217753e+08</td>\n",
       "      <td>2230.0</td>\n",
       "      <td>663.0</td>\n",
       "      <td>2893.0</td>\n",
       "    </tr>\n",
       "    <tr>\n",
       "      <th>1542216</th>\n",
       "      <td>SLC_TWF</td>\n",
       "      <td>13.0</td>\n",
       "      <td>1.248970e+08</td>\n",
       "      <td>3839.0</td>\n",
       "      <td>637.0</td>\n",
       "      <td>4476.0</td>\n",
       "    </tr>\n",
       "    <tr>\n",
       "      <th>1372284</th>\n",
       "      <td>CLT_ILM</td>\n",
       "      <td>13.0</td>\n",
       "      <td>8.651255e+07</td>\n",
       "      <td>6607.0</td>\n",
       "      <td>-607.0</td>\n",
       "      <td>6000.0</td>\n",
       "    </tr>\n",
       "    <tr>\n",
       "      <th>1302948</th>\n",
       "      <td>MDT_PHL</td>\n",
       "      <td>1.0</td>\n",
       "      <td>7.978695e+07</td>\n",
       "      <td>2864.0</td>\n",
       "      <td>3136.0</td>\n",
       "      <td>6000.0</td>\n",
       "    </tr>\n",
       "    <tr>\n",
       "      <th>1359196</th>\n",
       "      <td>CLT_GSO</td>\n",
       "      <td>1.0</td>\n",
       "      <td>9.952659e+07</td>\n",
       "      <td>8149.0</td>\n",
       "      <td>-1792.0</td>\n",
       "      <td>6357.0</td>\n",
       "    </tr>\n",
       "    <tr>\n",
       "      <th>1367730</th>\n",
       "      <td>AVL_CLT</td>\n",
       "      <td>1.0</td>\n",
       "      <td>6.806031e+07</td>\n",
       "      <td>6107.0</td>\n",
       "      <td>1696.0</td>\n",
       "      <td>7803.0</td>\n",
       "    </tr>\n",
       "    <tr>\n",
       "      <th>1330023</th>\n",
       "      <td>CLT_GSP</td>\n",
       "      <td>3.0</td>\n",
       "      <td>1.098061e+08</td>\n",
       "      <td>10909.0</td>\n",
       "      <td>-99.0</td>\n",
       "      <td>10810.0</td>\n",
       "    </tr>\n",
       "    <tr>\n",
       "      <th>1326358</th>\n",
       "      <td>CHS_CLT</td>\n",
       "      <td>16.0</td>\n",
       "      <td>8.110414e+07</td>\n",
       "      <td>9878.0</td>\n",
       "      <td>4805.0</td>\n",
       "      <td>14683.0</td>\n",
       "    </tr>\n",
       "    <tr>\n",
       "      <th>670521</th>\n",
       "      <td>FAR_MSP</td>\n",
       "      <td>30.0</td>\n",
       "      <td>6.675329e+07</td>\n",
       "      <td>20841.0</td>\n",
       "      <td>16124.0</td>\n",
       "      <td>36965.0</td>\n",
       "    </tr>\n",
       "  </tbody>\n",
       "</table>\n",
       "</div>"
      ],
      "text/plain": [
       "        ROUTE_ID  sum_ROUNDTRIP    sum_PROFIT  sum_DEP_DELAY  sum_ARR_DELAY  \\\n",
       "1378330  CLT_MYR            6.0  7.031784e+07         4719.0        -3073.0   \n",
       "1386956  CLT_FLO            1.0  1.217753e+08         2230.0          663.0   \n",
       "1542216  SLC_TWF           13.0  1.248970e+08         3839.0          637.0   \n",
       "1372284  CLT_ILM           13.0  8.651255e+07         6607.0         -607.0   \n",
       "1302948  MDT_PHL            1.0  7.978695e+07         2864.0         3136.0   \n",
       "1359196  CLT_GSO            1.0  9.952659e+07         8149.0        -1792.0   \n",
       "1367730  AVL_CLT            1.0  6.806031e+07         6107.0         1696.0   \n",
       "1330023  CLT_GSP            3.0  1.098061e+08        10909.0          -99.0   \n",
       "1326358  CHS_CLT           16.0  8.110414e+07         9878.0         4805.0   \n",
       "670521   FAR_MSP           30.0  6.675329e+07        20841.0        16124.0   \n",
       "\n",
       "         sum_DELAY  \n",
       "1378330     1646.0  \n",
       "1386956     2893.0  \n",
       "1542216     4476.0  \n",
       "1372284     6000.0  \n",
       "1302948     6000.0  \n",
       "1359196     6357.0  \n",
       "1367730     7803.0  \n",
       "1330023    10810.0  \n",
       "1326358    14683.0  \n",
       "670521     36965.0  "
      ]
     },
     "execution_count": 80,
     "metadata": {},
     "output_type": "execute_result"
    }
   ],
   "source": [
    "\n",
    "# Sorting the the top 10 most profitable routes with respect to the overall delay\n",
    "top_data_profit[['ROUTE_ID','sum_ROUNDTRIP', 'sum_PROFIT','sum_DEP_DELAY', 'sum_ARR_DELAY', 'sum_DELAY']].sort_values(by='sum_DELAY', ascending=True).head(10)\n",
    "\n"
   ]
  },
  {
   "cell_type": "code",
   "execution_count": 81,
   "metadata": {},
   "outputs": [
    {
     "data": {
      "image/png": "[encoded data removed]",
      "text/plain": [
       "<Figure size 864x432 with 1 Axes>"
      ]
     },
     "metadata": {
      "needs_background": "light"
     },
     "output_type": "display_data"
    }
   ],
   "source": [
    "\n",
    "# Plotting the top least delayed routes writh respect to overall delay\n",
    "top_data_delay5 = plot_top_least_delayed_routes(top_data_profit, num_bars=5, indicator='sum_DELAY', metric='Least Overall Delay', return_dataframe=True)\n"
   ]
  },
  {
   "cell_type": "markdown",
   "metadata": {},
   "source": [
    "## The 5 routes I recommend:\n",
    "- I recommend the 5 least delayed routes among the top most profitable routes.\n",
    "- These routes are : CLT_MYR, CLT_FLO, SLC_TWF, CLT_ILM, and MDT_PHL\n",
    "- This way, the company will balance between profit and its reputation which is being on time, and therefore avoinding delays\n",
    "- One could also use delay at departure and arrival. "
   ]
  },
  {
   "cell_type": "markdown",
   "metadata": {},
   "source": [
    "<br>\n",
    "<br>\n",
    "<br>\n",
    "<br>\n",
    "<br>\n",
    "<br>\n",
    "\n",
    "4. **The number of round trip flights it will take to breakeven on the upfront airplane cost for each of the 5 round trip routes that you recommend:**\n",
    "- Let's compute the average profit per round trip first"
   ]
  },
  {
   "cell_type": "code",
   "execution_count": null,
   "metadata": {},
   "outputs": [],
   "source": []
  },
  {
   "cell_type": "code",
   "execution_count": 82,
   "metadata": {},
   "outputs": [],
   "source": [
    "\n",
    "# top_data_profit['num_Breakeven_Trip'] = (90000000 / top_data_profit['mean_PROFIT']).round().astype(int)"
   ]
  },
  {
   "cell_type": "code",
   "execution_count": 83,
   "metadata": {},
   "outputs": [
    {
     "data": {
      "text/html": [
       "<div>\n",
       "<style scoped>\n",
       "    .dataframe tbody tr th:only-of-type {\n",
       "        vertical-align: middle;\n",
       "    }\n",
       "\n",
       "    .dataframe tbody tr th {\n",
       "        vertical-align: top;\n",
       "    }\n",
       "\n",
       "    .dataframe thead th {\n",
       "        text-align: right;\n",
       "    }\n",
       "</style>\n",
       "<table border=\"1\" class=\"dataframe\">\n",
       "  <thead>\n",
       "    <tr style=\"text-align: right;\">\n",
       "      <th></th>\n",
       "      <th>sum_ROUNDTRIP</th>\n",
       "      <th>sum_PROFIT</th>\n",
       "      <th>sum_DEP_DELAY</th>\n",
       "      <th>sum_ARR_DELAY</th>\n",
       "      <th>sum_DELAY</th>\n",
       "      <th>num_Breakeven_Trip</th>\n",
       "    </tr>\n",
       "  </thead>\n",
       "  <tbody>\n",
       "    <tr>\n",
       "      <th>count</th>\n",
       "      <td>1.819692e+06</td>\n",
       "      <td>1.819692e+06</td>\n",
       "      <td>1.819692e+06</td>\n",
       "      <td>1.819692e+06</td>\n",
       "      <td>1.819692e+06</td>\n",
       "      <td>1.819692e+06</td>\n",
       "    </tr>\n",
       "    <tr>\n",
       "      <th>mean</th>\n",
       "      <td>2.929639e+02</td>\n",
       "      <td>-1.525623e+07</td>\n",
       "      <td>1.643349e+04</td>\n",
       "      <td>9.250983e+03</td>\n",
       "      <td>2.568448e+04</td>\n",
       "      <td>-9.747475e+03</td>\n",
       "    </tr>\n",
       "    <tr>\n",
       "      <th>std</th>\n",
       "      <td>2.688329e+02</td>\n",
       "      <td>3.671646e+07</td>\n",
       "      <td>1.981276e+04</td>\n",
       "      <td>1.708479e+04</td>\n",
       "      <td>3.629509e+04</td>\n",
       "      <td>2.818348e+05</td>\n",
       "    </tr>\n",
       "    <tr>\n",
       "      <th>min</th>\n",
       "      <td>1.000000e+00</td>\n",
       "      <td>-2.102041e+08</td>\n",
       "      <td>-6.705000e+03</td>\n",
       "      <td>-1.203300e+04</td>\n",
       "      <td>-1.617000e+04</td>\n",
       "      <td>-1.182363e+07</td>\n",
       "    </tr>\n",
       "    <tr>\n",
       "      <th>25%</th>\n",
       "      <td>8.500000e+01</td>\n",
       "      <td>-3.092287e+07</td>\n",
       "      <td>5.001000e+03</td>\n",
       "      <td>5.210000e+02</td>\n",
       "      <td>5.689000e+03</td>\n",
       "      <td>-6.341000e+03</td>\n",
       "    </tr>\n",
       "    <tr>\n",
       "      <th>50%</th>\n",
       "      <td>2.210000e+02</td>\n",
       "      <td>-7.876798e+06</td>\n",
       "      <td>1.015500e+04</td>\n",
       "      <td>4.097000e+03</td>\n",
       "      <td>1.390700e+04</td>\n",
       "      <td>-3.846000e+03</td>\n",
       "    </tr>\n",
       "    <tr>\n",
       "      <th>75%</th>\n",
       "      <td>4.190000e+02</td>\n",
       "      <td>4.937162e+06</td>\n",
       "      <td>2.140400e+04</td>\n",
       "      <td>1.218800e+04</td>\n",
       "      <td>3.277900e+04</td>\n",
       "      <td>3.604000e+03</td>\n",
       "    </tr>\n",
       "    <tr>\n",
       "      <th>max</th>\n",
       "      <td>1.572000e+03</td>\n",
       "      <td>1.248970e+08</td>\n",
       "      <td>1.540990e+05</td>\n",
       "      <td>1.403220e+05</td>\n",
       "      <td>2.930100e+05</td>\n",
       "      <td>3.090016e+06</td>\n",
       "    </tr>\n",
       "  </tbody>\n",
       "</table>\n",
       "</div>"
      ],
      "text/plain": [
       "       sum_ROUNDTRIP    sum_PROFIT  sum_DEP_DELAY  sum_ARR_DELAY  \\\n",
       "count   1.819692e+06  1.819692e+06   1.819692e+06   1.819692e+06   \n",
       "mean    2.929639e+02 -1.525623e+07   1.643349e+04   9.250983e+03   \n",
       "std     2.688329e+02  3.671646e+07   1.981276e+04   1.708479e+04   \n",
       "min     1.000000e+00 -2.102041e+08  -6.705000e+03  -1.203300e+04   \n",
       "25%     8.500000e+01 -3.092287e+07   5.001000e+03   5.210000e+02   \n",
       "50%     2.210000e+02 -7.876798e+06   1.015500e+04   4.097000e+03   \n",
       "75%     4.190000e+02  4.937162e+06   2.140400e+04   1.218800e+04   \n",
       "max     1.572000e+03  1.248970e+08   1.540990e+05   1.403220e+05   \n",
       "\n",
       "          sum_DELAY  num_Breakeven_Trip  \n",
       "count  1.819692e+06        1.819692e+06  \n",
       "mean   2.568448e+04       -9.747475e+03  \n",
       "std    3.629509e+04        2.818348e+05  \n",
       "min   -1.617000e+04       -1.182363e+07  \n",
       "25%    5.689000e+03       -6.341000e+03  \n",
       "50%    1.390700e+04       -3.846000e+03  \n",
       "75%    3.277900e+04        3.604000e+03  \n",
       "max    2.930100e+05        3.090016e+06  "
      ]
     },
     "execution_count": 83,
     "metadata": {},
     "output_type": "execute_result"
    }
   ],
   "source": [
    "flights_tickets_airportcodes_final[['ROUTE_ID','sum_ROUNDTRIP', 'sum_PROFIT','sum_DEP_DELAY', 'sum_ARR_DELAY', 'sum_DELAY', 'num_Breakeven_Trip']].describe()"
   ]
  },
  {
   "cell_type": "code",
   "execution_count": 84,
   "metadata": {},
   "outputs": [
    {
     "data": {
      "text/html": [
       "<div>\n",
       "<style scoped>\n",
       "    .dataframe tbody tr th:only-of-type {\n",
       "        vertical-align: middle;\n",
       "    }\n",
       "\n",
       "    .dataframe tbody tr th {\n",
       "        vertical-align: top;\n",
       "    }\n",
       "\n",
       "    .dataframe thead th {\n",
       "        text-align: right;\n",
       "    }\n",
       "</style>\n",
       "<table border=\"1\" class=\"dataframe\">\n",
       "  <thead>\n",
       "    <tr style=\"text-align: right;\">\n",
       "      <th></th>\n",
       "      <th>ROUTE_ID</th>\n",
       "      <th>sum_ROUNDTRIP</th>\n",
       "      <th>sum_PROFIT</th>\n",
       "      <th>sum_DEP_DELAY</th>\n",
       "      <th>sum_ARR_DELAY</th>\n",
       "      <th>sum_DELAY</th>\n",
       "      <th>num_Breakeven_Trip</th>\n",
       "    </tr>\n",
       "  </thead>\n",
       "  <tbody>\n",
       "    <tr>\n",
       "      <th>1378330</th>\n",
       "      <td>CLT_MYR</td>\n",
       "      <td>6.0</td>\n",
       "      <td>7.031784e+07</td>\n",
       "      <td>4719.0</td>\n",
       "      <td>-3073.0</td>\n",
       "      <td>1646.0</td>\n",
       "      <td>1733</td>\n",
       "    </tr>\n",
       "    <tr>\n",
       "      <th>1386956</th>\n",
       "      <td>CLT_FLO</td>\n",
       "      <td>1.0</td>\n",
       "      <td>1.217753e+08</td>\n",
       "      <td>2230.0</td>\n",
       "      <td>663.0</td>\n",
       "      <td>2893.0</td>\n",
       "      <td>372</td>\n",
       "    </tr>\n",
       "    <tr>\n",
       "      <th>1542216</th>\n",
       "      <td>SLC_TWF</td>\n",
       "      <td>13.0</td>\n",
       "      <td>1.248970e+08</td>\n",
       "      <td>3839.0</td>\n",
       "      <td>637.0</td>\n",
       "      <td>4476.0</td>\n",
       "      <td>419</td>\n",
       "    </tr>\n",
       "    <tr>\n",
       "      <th>1372284</th>\n",
       "      <td>CLT_ILM</td>\n",
       "      <td>13.0</td>\n",
       "      <td>8.651255e+07</td>\n",
       "      <td>6607.0</td>\n",
       "      <td>-607.0</td>\n",
       "      <td>6000.0</td>\n",
       "      <td>1524</td>\n",
       "    </tr>\n",
       "    <tr>\n",
       "      <th>1302948</th>\n",
       "      <td>MDT_PHL</td>\n",
       "      <td>1.0</td>\n",
       "      <td>7.978695e+07</td>\n",
       "      <td>2864.0</td>\n",
       "      <td>3136.0</td>\n",
       "      <td>6000.0</td>\n",
       "      <td>896</td>\n",
       "    </tr>\n",
       "    <tr>\n",
       "      <th>1359196</th>\n",
       "      <td>CLT_GSO</td>\n",
       "      <td>1.0</td>\n",
       "      <td>9.952659e+07</td>\n",
       "      <td>8149.0</td>\n",
       "      <td>-1792.0</td>\n",
       "      <td>6357.0</td>\n",
       "      <td>1345</td>\n",
       "    </tr>\n",
       "    <tr>\n",
       "      <th>1367730</th>\n",
       "      <td>AVL_CLT</td>\n",
       "      <td>1.0</td>\n",
       "      <td>6.806031e+07</td>\n",
       "      <td>6107.0</td>\n",
       "      <td>1696.0</td>\n",
       "      <td>7803.0</td>\n",
       "      <td>1484</td>\n",
       "    </tr>\n",
       "    <tr>\n",
       "      <th>1330023</th>\n",
       "      <td>CLT_GSP</td>\n",
       "      <td>3.0</td>\n",
       "      <td>1.098061e+08</td>\n",
       "      <td>10909.0</td>\n",
       "      <td>-99.0</td>\n",
       "      <td>10810.0</td>\n",
       "      <td>1268</td>\n",
       "    </tr>\n",
       "    <tr>\n",
       "      <th>1326358</th>\n",
       "      <td>CHS_CLT</td>\n",
       "      <td>16.0</td>\n",
       "      <td>8.110414e+07</td>\n",
       "      <td>9878.0</td>\n",
       "      <td>4805.0</td>\n",
       "      <td>14683.0</td>\n",
       "      <td>1741</td>\n",
       "    </tr>\n",
       "    <tr>\n",
       "      <th>670521</th>\n",
       "      <td>FAR_MSP</td>\n",
       "      <td>30.0</td>\n",
       "      <td>6.675329e+07</td>\n",
       "      <td>20841.0</td>\n",
       "      <td>16124.0</td>\n",
       "      <td>36965.0</td>\n",
       "      <td>1381</td>\n",
       "    </tr>\n",
       "  </tbody>\n",
       "</table>\n",
       "</div>"
      ],
      "text/plain": [
       "        ROUTE_ID  sum_ROUNDTRIP    sum_PROFIT  sum_DEP_DELAY  sum_ARR_DELAY  \\\n",
       "1378330  CLT_MYR            6.0  7.031784e+07         4719.0        -3073.0   \n",
       "1386956  CLT_FLO            1.0  1.217753e+08         2230.0          663.0   \n",
       "1542216  SLC_TWF           13.0  1.248970e+08         3839.0          637.0   \n",
       "1372284  CLT_ILM           13.0  8.651255e+07         6607.0         -607.0   \n",
       "1302948  MDT_PHL            1.0  7.978695e+07         2864.0         3136.0   \n",
       "1359196  CLT_GSO            1.0  9.952659e+07         8149.0        -1792.0   \n",
       "1367730  AVL_CLT            1.0  6.806031e+07         6107.0         1696.0   \n",
       "1330023  CLT_GSP            3.0  1.098061e+08        10909.0          -99.0   \n",
       "1326358  CHS_CLT           16.0  8.110414e+07         9878.0         4805.0   \n",
       "670521   FAR_MSP           30.0  6.675329e+07        20841.0        16124.0   \n",
       "\n",
       "         sum_DELAY  num_Breakeven_Trip  \n",
       "1378330     1646.0                1733  \n",
       "1386956     2893.0                 372  \n",
       "1542216     4476.0                 419  \n",
       "1372284     6000.0                1524  \n",
       "1302948     6000.0                 896  \n",
       "1359196     6357.0                1345  \n",
       "1367730     7803.0                1484  \n",
       "1330023    10810.0                1268  \n",
       "1326358    14683.0                1741  \n",
       "670521     36965.0                1381  "
      ]
     },
     "execution_count": 84,
     "metadata": {},
     "output_type": "execute_result"
    }
   ],
   "source": [
    "\n",
    "# Sorting the the top 10 most profitable routes with respect to the overall delay\n",
    "top_data_profit[['ROUTE_ID','sum_ROUNDTRIP', 'sum_PROFIT','sum_DEP_DELAY', 'sum_ARR_DELAY', 'sum_DELAY', 'num_Breakeven_Trip']].sort_values(by='sum_DELAY', ascending=True).head(10)\n",
    "\n"
   ]
  },
  {
   "cell_type": "markdown",
   "metadata": {},
   "source": [
    "\n",
    "- It will take 1733, 372, 419, 1524, and 896 to beakeven for CLT_MYR, CLT_FLO, SLC_TWF, CLT_ILM, and MDT_PHL respectively\n",
    "- Those are my recommended 5 routes as I explained above"
   ]
  },
  {
   "cell_type": "markdown",
   "metadata": {},
   "source": [
    "<br>\n",
    "<br>\n",
    "<br>\n",
    "<br>\n",
    "<br>\n",
    "<br>\n",
    "\n",
    "5. **Key Performance Indicators (KPI’s) that I recommend tracking in the future to measure the success of my 5 recommended routes above:**\n",
    "- I recommend to pay a close attention to the delay metrics at the departure, arrival, and overall. "
   ]
  },
  {
   "cell_type": "code",
   "execution_count": 86,
   "metadata": {},
   "outputs": [],
   "source": [
    "# Checking the data again\n",
    "# flights_tickets_airportcodes_final.info()"
   ]
  },
  {
   "cell_type": "markdown",
   "metadata": {},
   "source": [
    "<br>\n",
    "<br>\n",
    "<br>\n",
    "<br>\n",
    "<br>\n",
    "<br>\n",
    "\n",
    "# Conclusion\n",
    "- So far, we mostly used the totals per route (like sum_ROUNDTRIP, sum_PROFIT, sum_DEP_DELAY, sum_ARR_DELAY, sum_DELAY) for our performance analysis\n",
    "- But I suggest considering the means and medians within ROUTE_ID to further our analysis \n",
    "- The reason is that the median, for example, is less sensitive to outliers. \n",
    "- As I described above, the datasets (flights, tickets, airport_codes) have limitations even though they are of fair good quality\n",
    "- All the variables have the expected values, even though some had the wrong format. I fixed them.\n",
    "- The main limitation is not being able to connect each ticket to its flight\n",
    "- If I had more time, I would talk more with airline experts to improve my knowledge of how to approach the data."
   ]
  }
 ],
 "metadata": {
  "colab": {
   "include_colab_link": true,
   "name": "DiabetesAnalysisProject.ipynb",
   "provenance": []
  },
  "kernelspec": {
   "display_name": "Python 3",
   "language": "python",
   "name": "python3"
  },
  "language_info": {
   "codemirror_mode": {
    "name": "ipython",
    "version": 3
   },
   "file_extension": ".py",
   "mimetype": "text/x-python",
   "name": "python",
   "nbconvert_exporter": "python",
   "pygments_lexer": "ipython3",
   "version": "3.8.5"
  },
  "toc": {
   "base_numbering": 1,
   "nav_menu": {},
   "number_sections": true,
   "sideBar": true,
   "skip_h1_title": false,
   "title_cell": "Table of Contents",
   "title_sidebar": "Contents",
   "toc_cell": false,
   "toc_position": {},
   "toc_section_display": true,
   "toc_window_display": false
  },
  "varInspector": {
   "cols": {
    "lenName": 16,
    "lenType": 16,
    "lenVar": 40
   },
   "kernels_config": {
    "python": {
     "delete_cmd_postfix": "",
     "delete_cmd_prefix": "del ",
     "library": "var_list.py",
     "varRefreshCmd": "print(var_dic_list())"
    },
    "r": {
     "delete_cmd_postfix": ") ",
     "delete_cmd_prefix": "rm(",
     "library": "var_list.r",
     "varRefreshCmd": "cat(var_dic_list()) "
    }
   },
   "types_to_exclude": [
    "module",
    "function",
    "builtin_function_or_method",
    "instance",
    "_Feature"
   ],
   "window_display": false
  }
 },
 "nbformat": 4,
 "nbformat_minor": 4
}
